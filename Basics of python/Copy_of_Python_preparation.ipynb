{
  "nbformat": 4,
  "nbformat_minor": 0,
  "metadata": {
    "colab": {
      "name": "Copy of Python preparation.ipynb",
      "provenance": [],
      "collapsed_sections": [],
      "authorship_tag": "ABX9TyM4FyqLRBfoum+4Jih6wqAW",
      "include_colab_link": true
    },
    "kernelspec": {
      "name": "python3",
      "display_name": "Python 3"
    },
    "language_info": {
      "name": "python"
    }
  },
  "cells": [
    {
      "cell_type": "markdown",
      "metadata": {
        "id": "view-in-github",
        "colab_type": "text"
      },
      "source": [
        "<a href=\"https://colab.research.google.com/github/venu887/Python-Codes/blob/main/Basics%20of%20python/Copy_of_Python_preparation.ipynb\" target=\"_parent\"><img src=\"https://colab.research.google.com/assets/colab-badge.svg\" alt=\"Open In Colab\"/></a>"
      ]
    },
    {
      "cell_type": "code",
      "execution_count": null,
      "metadata": {
        "colab": {
          "base_uri": "https://localhost:8080/"
        },
        "id": "sYdfHDBM-HhZ",
        "outputId": "ddb3bb41-5c53-4e54-af8b-2162c877c0e1"
      },
      "outputs": [
        {
          "output_type": "stream",
          "name": "stdout",
          "text": [
            "hello venu\n",
            " my age is 31\n",
            "i am finished my Doctorial degree now\n",
            "i am looking for job or Postdoc now to fit\n"
          ]
        }
      ],
      "source": [
        "print (\"hello venu\")\n",
        "print (\" my age is 31\")\n",
        "print (\"i am finished my Doctorial degree now\")\n",
        "print (\"i am looking for job or Postdoc now to fit\")"
      ]
    },
    {
      "cell_type": "code",
      "source": [
        "print(\"\\      /\")\n",
        "print(\" \\    / \")\n",
        "print(\"  \\  /  \")\n",
        "print(\"   \\/   \")"
      ],
      "metadata": {
        "colab": {
          "base_uri": "https://localhost:8080/"
        },
        "id": "6olyNVCs-rdl",
        "outputId": "930702ac-e734-49c2-862c-eaa114706011"
      },
      "execution_count": null,
      "outputs": [
        {
          "output_type": "stream",
          "name": "stdout",
          "text": [
            "\\      /\n",
            " \\    / \n",
            "  \\  /  \n",
            "   \\/   \n"
          ]
        }
      ]
    },
    {
      "cell_type": "code",
      "source": [
        "print(\"There once was a man named venu\")\n",
        "print(\"he was 30 years old\")\n",
        "print(\"he reallky liked the name venugopala\")\n",
        "print(\"but he didn't like being 30\")"
      ],
      "metadata": {
        "colab": {
          "base_uri": "https://localhost:8080/"
        },
        "id": "fqL3oIFWBRKT",
        "outputId": "b94ba7a9-4ce0-4ae9-b34a-3a6b009313f6"
      },
      "execution_count": null,
      "outputs": [
        {
          "output_type": "stream",
          "name": "stdout",
          "text": [
            "There once was a man named venu\n",
            "he was 30 years old\n",
            "he reallky liked the name venugopala\n",
            "but he didn't like being 30\n"
          ]
        }
      ]
    },
    {
      "cell_type": "code",
      "source": [
        "character_name= \"venu\"\n",
        "character_age = \"30\"\n",
        "print(\"There once was a man named \"+ character_name +\", \")\n",
        "print(\"he was \"+charecter_age+ \" years old\")\n",
        "print(\"he reallky liked the name \" + character_name + \"gopala\")\n",
        "print(\"but he didn't like being \"+ charecter_age+\".\")"
      ],
      "metadata": {
        "colab": {
          "base_uri": "https://localhost:8080/"
        },
        "id": "TAOstwlWGe-J",
        "outputId": "38721e94-bdce-46ed-8924-e5160985d419"
      },
      "execution_count": null,
      "outputs": [
        {
          "output_type": "stream",
          "name": "stdout",
          "text": [
            "There once was a man named venu, \n",
            "he was 30 years old\n",
            "he reallky liked the name venugopala\n",
            "but he didn't like being 30.\n"
          ]
        }
      ]
    },
    {
      "cell_type": "code",
      "source": [
        "character_name= \"venu\"\n",
        "character_age = 30 \n",
        "# age= \"30\"\n",
        "is_male=True\n",
        "print(\"There once was a man named \"+ character_name +\", \")\n",
        "print(\"he was \"+charecter_age+ \" years old\")\n",
        "character_name=\"mekala venugopala reddy\"\n",
        "\n",
        "print(\"he reallky liked the name \" + character_name + \" \")\n",
        "print(\"but he didn't like being \"+ charecter_age+\".\")"
      ],
      "metadata": {
        "colab": {
          "base_uri": "https://localhost:8080/"
        },
        "id": "XasfnflOGuFp",
        "outputId": "99380c3c-1367-40ba-c255-c147c376fe73"
      },
      "execution_count": null,
      "outputs": [
        {
          "output_type": "stream",
          "name": "stdout",
          "text": [
            "There once was a man named venu, \n",
            "he was 30 years old\n",
            "he reallky liked the name mekala venugopala reddy \n",
            "but he didn't like being 30.\n"
          ]
        }
      ]
    },
    {
      "cell_type": "code",
      "source": [
        "# Working with strings: plain text\n",
        "print(\"venugopal academy\")\n",
        "print(\"venugopala\\nacademy\")\n",
        "print(\"venugopala\\\"academy\")\n",
        "print(\"venugopala\\academy\")\n",
        "phrase = \"venugopala academy\"\n",
        "print(phrase+ \" is cool\")\n",
        "# function to modify our strings\n",
        "print(phrase.upper())\n",
        "print(phrase.upper().isupper())\n",
        "print(len(phrase))\n",
        "print(phrase[0])\n",
        "print(phrase[2])\n",
        "# index function\n",
        "print(phrase.index(\"nu\"))\n",
        "print(phrase.replace(\"venu\",\"gopal\"))"
      ],
      "metadata": {
        "colab": {
          "base_uri": "https://localhost:8080/"
        },
        "id": "JGJxQOaGOLe1",
        "outputId": "664deb90-cd66-45f4-be4f-a3f378f2d43c"
      },
      "execution_count": null,
      "outputs": [
        {
          "output_type": "stream",
          "name": "stdout",
          "text": [
            "venugopal academy\n",
            "venugopala\n",
            "academy\n",
            "venugopala\"academy\n",
            "venugopala\u0007cademy\n",
            "venugopala academy is cool\n",
            "VENUGOPALA ACADEMY\n",
            "True\n",
            "18\n",
            "v\n",
            "n\n",
            "2\n",
            "gopalgopala academy\n"
          ]
        }
      ]
    },
    {
      "cell_type": "code",
      "source": [
        "# working with numbers\n",
        "print(2)\n",
        "print(2.987)\n",
        "print(-878993)\n",
        "print(4+5)\n",
        "print(4*5+6)\n",
        "print(4*(5+8))\n",
        "print(5%3)\n",
        "x=5\n",
        "print(x)\n",
        "print(str(x)+\" my favourite number\")\n",
        "my_num=-5\n",
        "print(abs(my_num)) #absolute value\n",
        "print(pow(3,2)) # 3 to the power of 2\n",
        "print(max(4,5,6))\n",
        "print(min(5,6,3,6,7))\n",
        "print(round(8.7))\n",
        "# import  function for maths\n",
        "from math import*\n",
        "print(floor(5.6))\n",
        "print(ceil(5.7))\n",
        "print(sqrt(36))"
      ],
      "metadata": {
        "colab": {
          "base_uri": "https://localhost:8080/"
        },
        "id": "2jkTW4uDTdfO",
        "outputId": "c4dbe834-b6dc-4cd4-9714-f5ef78633ecb"
      },
      "execution_count": null,
      "outputs": [
        {
          "output_type": "stream",
          "name": "stdout",
          "text": [
            "2\n",
            "2.987\n",
            "-878993\n",
            "9\n",
            "26\n",
            "52\n",
            "2\n",
            "5\n",
            "5 my favourite number\n",
            "5\n",
            "9.0\n",
            "6\n",
            "3\n",
            "9\n",
            "5\n",
            "6\n",
            "6.0\n"
          ]
        }
      ]
    },
    {
      "cell_type": "code",
      "source": [
        "# getting input from users\n",
        "name=input(\"Enter your name: \")\n",
        "age=input(\"Enter your age: \")\n",
        "print(\"Hello \" + name + \"! You are \"+ age)\n"
      ],
      "metadata": {
        "colab": {
          "base_uri": "https://localhost:8080/"
        },
        "id": "NroG4S-zX0Pu",
        "outputId": "4b1022f0-bc78-462e-a553-5b385bb58543"
      },
      "execution_count": null,
      "outputs": [
        {
          "output_type": "stream",
          "name": "stdout",
          "text": [
            "Enter your name: venu\n",
            "Enter your age: 30\n",
            "Hello venu! You are 30\n"
          ]
        }
      ]
    },
    {
      "cell_type": "code",
      "source": [
        "#building a basic calculator\n",
        "num1=input(\"Enter a number: \")\n",
        "num2=input(\"Enter another number: \")\n",
        "result=num1+num2\n",
        "print(result)\n",
        "results=int(num1) + int(num2) #a whole number INT \n",
        "print(results)\n",
        "results1=float(num1) + float(num2) # float for decimels\n",
        "print(results1)"
      ],
      "metadata": {
        "colab": {
          "base_uri": "https://localhost:8080/"
        },
        "id": "5UKIjNinZjNi",
        "outputId": "49912c79-2d22-4e0f-c9ed-bf7497c5f9a1"
      },
      "execution_count": null,
      "outputs": [
        {
          "output_type": "stream",
          "name": "stdout",
          "text": [
            "Enter a number: 2\n",
            "Enter another number: 3\n",
            "23\n",
            "5\n"
          ]
        }
      ]
    },
    {
      "cell_type": "code",
      "source": [
        "# mad libs game\n",
        "print(\"Roses are red\")\n",
        "print(\"Violets are blue\")\n",
        "print(\"I love you\")\n",
        "\n",
        "color= input(\"Enter a color: \")\n",
        "plural_noun= input(\"Enter a Plural Noun: \")\n",
        "celebraty= input(\"Enter a celebraty: \")\n",
        "print(\"Roses are \"+ color)\n",
        "print(plural_noun + \" are blue\")\n",
        "print(\"I love \" + celebraty)"
      ],
      "metadata": {
        "colab": {
          "base_uri": "https://localhost:8080/"
        },
        "id": "ruO1NZZDenc7",
        "outputId": "7fdd33de-02bb-461e-c1f3-7a175c4fc4ce"
      },
      "execution_count": null,
      "outputs": [
        {
          "output_type": "stream",
          "name": "stdout",
          "text": [
            "Roses are red\n",
            "Violets are blue\n",
            "I love you\n",
            "Enter a color: red\n",
            "Enter a Plural Noun: violine\n",
            "Enter a celebraty: venu\n",
            "Roses are red\n",
            "violine are blue\n",
            "I love venu\n"
          ]
        }
      ]
    },
    {
      "cell_type": "code",
      "source": [
        "# working with lists in python\n",
        "friends = [\"venu\", \"gopal\", \"reddy\"]\n",
        "print(friends)\n",
        "print(friends[0])\n",
        "print(friends[2])\n",
        "print(friends[1:])\n",
        "print(friends[1:3]) #Select specific elements\n",
        "#modify value\n",
        "friends[1]=\"Mekala\"\n",
        "print(friends[1])\n"
      ],
      "metadata": {
        "colab": {
          "base_uri": "https://localhost:8080/"
        },
        "id": "uNRMFroeij2h",
        "outputId": "6694722e-d4e9-49ba-ba88-699bbeaa6f75"
      },
      "execution_count": null,
      "outputs": [
        {
          "output_type": "stream",
          "name": "stdout",
          "text": [
            "['venu', 'gopal', 'reddy']\n",
            "venu\n",
            "reddy\n",
            "['gopal', 'reddy']\n",
            "['gopal', 'reddy']\n",
            "Mekala\n"
          ]
        }
      ]
    },
    {
      "cell_type": "code",
      "source": [
        "# List Functions\n",
        "lucky_numbers= [4,5,6,3,2,44,34]\n",
        "friends=[\"venu\",\"mekala\", \"gopala\",\"reddy\", \"sri\", \"supreeth\"]\n",
        "friends.extend(lucky_numbers) # insert both lists\n",
        "friends.append(\"lakshman\") # add iteam end of list\n",
        "friends.insert(1,\"aruna\") # add something at position one\n",
        "friends.remove(\"venu\") # remove one element \n",
        "friends.clear() # remove all list\n",
        "friends.pop() #removes last element in list\n",
        "print(friends)\n",
        "print(friends.index(\"venu\")) \n",
        "print(friends.count(\"venu\")) # How many times this nam occurs\n",
        "friends.sort() # it put everything in alphabetical order\n",
        "lucky_numbers.reverse() # make the numbers into riverse\n",
        "\n",
        "friends2=friends.copy() # coping a list"
      ],
      "metadata": {
        "colab": {
          "base_uri": "https://localhost:8080/"
        },
        "id": "xNan3cAFjE0K",
        "outputId": "fb10fe02-7b9e-496a-a9a9-954428126d08"
      },
      "execution_count": null,
      "outputs": [
        {
          "output_type": "stream",
          "name": "stdout",
          "text": [
            "['aruna', 'mekala', 'gopala', 'reddy', 'sri', 'supreeth', 4, 5, 6, 3, 2, 44, 34, 'lakshman']\n"
          ]
        }
      ]
    },
    {
      "cell_type": "code",
      "source": [
        "#Tuples in python it will store multiple values\n",
        "coordinates = [(4,5),(6,7), (8,7)]\n",
        "print(coordinates[0])\n",
        "print(coordinates[1])\n",
        "coordinates[1] = 10 "
      ],
      "metadata": {
        "colab": {
          "base_uri": "https://localhost:8080/"
        },
        "id": "KAGLiz5Pnc9K",
        "outputId": "8d05a748-0d8f-47d0-ff91-f775d46239a1"
      },
      "execution_count": null,
      "outputs": [
        {
          "output_type": "stream",
          "name": "stdout",
          "text": [
            "(4, 5)\n",
            "10\n"
          ]
        }
      ]
    },
    {
      "cell_type": "code",
      "source": [
        "#Functions collection of code to perform specific task\n",
        "def sayhitovenu():\n",
        "  print(\"Hello venu\")\n",
        "\n",
        "print(\"Top\")\n",
        "sayhitovenu()\n",
        "print(\"Bottom\")"
      ],
      "metadata": {
        "id": "ARAoimq1oxhm",
        "outputId": "f863bc78-75ad-4dba-8c00-89f81bc5be27",
        "colab": {
          "base_uri": "https://localhost:8080/"
        }
      },
      "execution_count": 4,
      "outputs": [
        {
          "output_type": "stream",
          "name": "stdout",
          "text": [
            "Top\n",
            "Hello venu\n",
            "Bottom\n"
          ]
        }
      ]
    },
    {
      "cell_type": "code",
      "source": [
        "def sayhi(name):\n",
        "  print(\"Hello \"+ name)\n",
        "\n",
        "sayhi(\"Venu\")\n",
        "sayhi(\"Uma\")"
      ],
      "metadata": {
        "id": "HsmTepxeAklc",
        "outputId": "5a16f656-54f7-43e7-ee42-4dce835d16ba",
        "colab": {
          "base_uri": "https://localhost:8080/"
        }
      },
      "execution_count": 5,
      "outputs": [
        {
          "output_type": "stream",
          "name": "stdout",
          "text": [
            "Hello Venu\n",
            "Hello Uma\n"
          ]
        }
      ]
    },
    {
      "cell_type": "code",
      "source": [
        "def sayhi(name, age):\n",
        "  print(\"Hello \"+ name+ \" you are \"+ age)\n",
        "\n",
        "sayhi(\"Venu\", \"31\")\n",
        "sayhi(\"Uma\", \"24\")"
      ],
      "metadata": {
        "id": "YdJPC5GcA8VA",
        "outputId": "8afb660a-b858-4a8f-a6d2-4b8d899e9950",
        "colab": {
          "base_uri": "https://localhost:8080/"
        }
      },
      "execution_count": 7,
      "outputs": [
        {
          "output_type": "stream",
          "name": "stdout",
          "text": [
            "Hello Venu you are 31\n",
            "Hello Uma you are 24\n"
          ]
        }
      ]
    },
    {
      "cell_type": "code",
      "source": [
        "def sayhi(name, age):\n",
        "  print(\"Hello \"+ name+ \" you are \"+ str(age))\n",
        "\n",
        "sayhi(\"Venu\", 31)\n",
        "sayhi(\"Uma\", 24)"
      ],
      "metadata": {
        "id": "NyiJfnnIBnfI",
        "outputId": "14d4e34a-ad89-488d-ec25-a14410e6625e",
        "colab": {
          "base_uri": "https://localhost:8080/"
        }
      },
      "execution_count": 8,
      "outputs": [
        {
          "output_type": "stream",
          "name": "stdout",
          "text": [
            "Hello Venu you are 31\n",
            "Hello Uma you are 24\n"
          ]
        }
      ]
    },
    {
      "cell_type": "code",
      "source": [
        "#Return Statements \n"
      ],
      "metadata": {
        "id": "ourCKAz6BxxD"
      },
      "execution_count": null,
      "outputs": []
    }
  ]
}
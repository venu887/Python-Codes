{
  "nbformat": 4,
  "nbformat_minor": 0,
  "metadata": {
    "colab": {
      "name": "Copy of Python preparation.ipynb",
      "provenance": [],
      "collapsed_sections": [],
      "toc_visible": true,
      "include_colab_link": true
    },
    "kernelspec": {
      "name": "python3",
      "display_name": "Python 3"
    },
    "language_info": {
      "name": "python"
    }
  },
  "cells": [
    {
      "cell_type": "markdown",
      "metadata": {
        "id": "view-in-github",
        "colab_type": "text"
      },
      "source": [
        "<a href=\"https://colab.research.google.com/github/venu887/Python-Codes/blob/main/Basics%20of%20python/Copy_of_Python_preparation.ipynb\" target=\"_parent\"><img src=\"https://colab.research.google.com/assets/colab-badge.svg\" alt=\"Open In Colab\"/></a>"
      ]
    },
    {
      "cell_type": "code",
      "execution_count": null,
      "metadata": {
        "colab": {
          "base_uri": "https://localhost:8080/"
        },
        "id": "sYdfHDBM-HhZ",
        "outputId": "ddb3bb41-5c53-4e54-af8b-2162c877c0e1"
      },
      "outputs": [
        {
          "output_type": "stream",
          "name": "stdout",
          "text": [
            "hello venu\n",
            " my age is 31\n",
            "i am finished my Doctorial degree now\n",
            "i am looking for job or Postdoc now to fit\n"
          ]
        }
      ],
      "source": [
        "print (\"hello venu\")\n",
        "print (\" my age is 31\")\n",
        "print (\"i am finished my Doctorial degree now\")\n",
        "print (\"i am looking for job or Postdoc now to fit\")"
      ]
    },
    {
      "cell_type": "code",
      "source": [
        "print(\"\\      /\")\n",
        "print(\" \\    / \")\n",
        "print(\"  \\  /  \")\n",
        "print(\"   \\/   \")"
      ],
      "metadata": {
        "colab": {
          "base_uri": "https://localhost:8080/"
        },
        "id": "6olyNVCs-rdl",
        "outputId": "930702ac-e734-49c2-862c-eaa114706011"
      },
      "execution_count": null,
      "outputs": [
        {
          "output_type": "stream",
          "name": "stdout",
          "text": [
            "\\      /\n",
            " \\    / \n",
            "  \\  /  \n",
            "   \\/   \n"
          ]
        }
      ]
    },
    {
      "cell_type": "code",
      "source": [
        "print(\"There once was a man named venu\")\n",
        "print(\"he was 30 years old\")\n",
        "print(\"he reallky liked the name venugopala\")\n",
        "print(\"but he didn't like being 30\")"
      ],
      "metadata": {
        "colab": {
          "base_uri": "https://localhost:8080/"
        },
        "id": "fqL3oIFWBRKT",
        "outputId": "b94ba7a9-4ce0-4ae9-b34a-3a6b009313f6"
      },
      "execution_count": null,
      "outputs": [
        {
          "output_type": "stream",
          "name": "stdout",
          "text": [
            "There once was a man named venu\n",
            "he was 30 years old\n",
            "he reallky liked the name venugopala\n",
            "but he didn't like being 30\n"
          ]
        }
      ]
    },
    {
      "cell_type": "code",
      "source": [
        "character_name= \"venu\"\n",
        "character_age = \"30\"\n",
        "print(\"There once was a man named \"+ character_name +\", \")\n",
        "print(\"he was \"+charecter_age+ \" years old\")\n",
        "print(\"he reallky liked the name \" + character_name + \"gopala\")\n",
        "print(\"but he didn't like being \"+ charecter_age+\".\")"
      ],
      "metadata": {
        "colab": {
          "base_uri": "https://localhost:8080/"
        },
        "id": "TAOstwlWGe-J",
        "outputId": "38721e94-bdce-46ed-8924-e5160985d419"
      },
      "execution_count": null,
      "outputs": [
        {
          "output_type": "stream",
          "name": "stdout",
          "text": [
            "There once was a man named venu, \n",
            "he was 30 years old\n",
            "he reallky liked the name venugopala\n",
            "but he didn't like being 30.\n"
          ]
        }
      ]
    },
    {
      "cell_type": "code",
      "source": [
        "character_name= \"venu\"\n",
        "character_age = 30 \n",
        "# age= \"30\"\n",
        "is_male=True\n",
        "print(\"There once was a man named \"+ character_name +\", \")\n",
        "print(\"he was \"+charecter_age+ \" years old\")\n",
        "character_name=\"mekala venugopala reddy\"\n",
        "\n",
        "print(\"he reallky liked the name \" + character_name + \" \")\n",
        "print(\"but he didn't like being \"+ charecter_age+\".\")"
      ],
      "metadata": {
        "colab": {
          "base_uri": "https://localhost:8080/"
        },
        "id": "XasfnflOGuFp",
        "outputId": "99380c3c-1367-40ba-c255-c147c376fe73"
      },
      "execution_count": null,
      "outputs": [
        {
          "output_type": "stream",
          "name": "stdout",
          "text": [
            "There once was a man named venu, \n",
            "he was 30 years old\n",
            "he reallky liked the name mekala venugopala reddy \n",
            "but he didn't like being 30.\n"
          ]
        }
      ]
    },
    {
      "cell_type": "code",
      "source": [
        "# Working with strings: plain text\n",
        "print(\"venugopal academy\")\n",
        "print(\"venugopala\\nacademy\")\n",
        "print(\"venugopala\\\"academy\")\n",
        "print(\"venugopala\\academy\")\n",
        "phrase = \"venugopala academy\"\n",
        "print(phrase+ \" is cool\")\n",
        "# function to modify our strings\n",
        "print(phrase.upper())\n",
        "print(phrase.upper().isupper())\n",
        "print(len(phrase))\n",
        "print(phrase[0])\n",
        "print(phrase[2])\n",
        "# index function\n",
        "print(phrase.index(\"nu\"))\n",
        "print(phrase.replace(\"venu\",\"gopal\"))"
      ],
      "metadata": {
        "colab": {
          "base_uri": "https://localhost:8080/"
        },
        "id": "JGJxQOaGOLe1",
        "outputId": "664deb90-cd66-45f4-be4f-a3f378f2d43c"
      },
      "execution_count": null,
      "outputs": [
        {
          "output_type": "stream",
          "name": "stdout",
          "text": [
            "venugopal academy\n",
            "venugopala\n",
            "academy\n",
            "venugopala\"academy\n",
            "venugopala\u0007cademy\n",
            "venugopala academy is cool\n",
            "VENUGOPALA ACADEMY\n",
            "True\n",
            "18\n",
            "v\n",
            "n\n",
            "2\n",
            "gopalgopala academy\n"
          ]
        }
      ]
    },
    {
      "cell_type": "code",
      "source": [
        "# working with numbers\n",
        "print(2)\n",
        "print(2.987)\n",
        "print(-878993)\n",
        "print(4+5)\n",
        "print(4*5+6)\n",
        "print(4*(5+8))\n",
        "print(5%3)\n",
        "x=5\n",
        "print(x)\n",
        "print(str(x)+\" my favourite number\")\n",
        "my_num=-5\n",
        "print(abs(my_num)) #absolute value\n",
        "print(pow(3,2)) # 3 to the power of 2\n",
        "print(max(4,5,6))\n",
        "print(min(5,6,3,6,7))\n",
        "print(round(8.7))\n",
        "# import  function for maths\n",
        "from math import*\n",
        "print(floor(5.6))\n",
        "print(ceil(5.7))\n",
        "print(sqrt(36))"
      ],
      "metadata": {
        "colab": {
          "base_uri": "https://localhost:8080/"
        },
        "id": "2jkTW4uDTdfO",
        "outputId": "c4dbe834-b6dc-4cd4-9714-f5ef78633ecb"
      },
      "execution_count": null,
      "outputs": [
        {
          "output_type": "stream",
          "name": "stdout",
          "text": [
            "2\n",
            "2.987\n",
            "-878993\n",
            "9\n",
            "26\n",
            "52\n",
            "2\n",
            "5\n",
            "5 my favourite number\n",
            "5\n",
            "9.0\n",
            "6\n",
            "3\n",
            "9\n",
            "5\n",
            "6\n",
            "6.0\n"
          ]
        }
      ]
    },
    {
      "cell_type": "code",
      "source": [
        "# getting input from users\n",
        "name=input(\"Enter your name: \")\n",
        "age=input(\"Enter your age: \")\n",
        "print(\"Hello \" + name + \"! You are \"+ age)\n"
      ],
      "metadata": {
        "colab": {
          "base_uri": "https://localhost:8080/"
        },
        "id": "NroG4S-zX0Pu",
        "outputId": "4b1022f0-bc78-462e-a553-5b385bb58543"
      },
      "execution_count": null,
      "outputs": [
        {
          "output_type": "stream",
          "name": "stdout",
          "text": [
            "Enter your name: venu\n",
            "Enter your age: 30\n",
            "Hello venu! You are 30\n"
          ]
        }
      ]
    },
    {
      "cell_type": "code",
      "source": [
        "#building a basic calculator\n",
        "num1=input(\"Enter a number: \")\n",
        "num2=input(\"Enter another number: \")\n",
        "result=num1+num2\n",
        "print(result)\n",
        "results=int(num1) + int(num2) #a whole number INT \n",
        "print(results)\n",
        "results1=float(num1) + float(num2) # float for decimels\n",
        "print(results1)"
      ],
      "metadata": {
        "colab": {
          "base_uri": "https://localhost:8080/"
        },
        "id": "5UKIjNinZjNi",
        "outputId": "49912c79-2d22-4e0f-c9ed-bf7497c5f9a1"
      },
      "execution_count": null,
      "outputs": [
        {
          "output_type": "stream",
          "name": "stdout",
          "text": [
            "Enter a number: 2\n",
            "Enter another number: 3\n",
            "23\n",
            "5\n"
          ]
        }
      ]
    },
    {
      "cell_type": "code",
      "source": [
        "# mad libs game\n",
        "print(\"Roses are red\")\n",
        "print(\"Violets are blue\")\n",
        "print(\"I love you\")\n",
        "\n",
        "color= input(\"Enter a color: \")\n",
        "plural_noun= input(\"Enter a Plural Noun: \")\n",
        "celebraty= input(\"Enter a celebraty: \")\n",
        "print(\"Roses are \"+ color)\n",
        "print(plural_noun + \" are blue\")\n",
        "print(\"I love \" + celebraty)"
      ],
      "metadata": {
        "colab": {
          "base_uri": "https://localhost:8080/"
        },
        "id": "ruO1NZZDenc7",
        "outputId": "7fdd33de-02bb-461e-c1f3-7a175c4fc4ce"
      },
      "execution_count": null,
      "outputs": [
        {
          "output_type": "stream",
          "name": "stdout",
          "text": [
            "Roses are red\n",
            "Violets are blue\n",
            "I love you\n",
            "Enter a color: red\n",
            "Enter a Plural Noun: violine\n",
            "Enter a celebraty: venu\n",
            "Roses are red\n",
            "violine are blue\n",
            "I love venu\n"
          ]
        }
      ]
    },
    {
      "cell_type": "code",
      "source": [
        "# working with lists in python\n",
        "friends = [\"venu\", \"gopal\", \"reddy\"]\n",
        "print(friends)\n",
        "print(friends[0])\n",
        "print(friends[2])\n",
        "print(friends[1:])\n",
        "print(friends[1:3]) #Select specific elements\n",
        "#modify value\n",
        "friends[1]=\"Mekala\"\n",
        "print(friends[1])\n"
      ],
      "metadata": {
        "colab": {
          "base_uri": "https://localhost:8080/"
        },
        "id": "uNRMFroeij2h",
        "outputId": "6694722e-d4e9-49ba-ba88-699bbeaa6f75"
      },
      "execution_count": null,
      "outputs": [
        {
          "output_type": "stream",
          "name": "stdout",
          "text": [
            "['venu', 'gopal', 'reddy']\n",
            "venu\n",
            "reddy\n",
            "['gopal', 'reddy']\n",
            "['gopal', 'reddy']\n",
            "Mekala\n"
          ]
        }
      ]
    },
    {
      "cell_type": "code",
      "source": [
        "# List Functions\n",
        "lucky_numbers= [4,5,6,3,2,44,34]\n",
        "friends=[\"venu\",\"mekala\", \"gopala\",\"reddy\", \"sri\", \"supreeth\"]\n",
        "friends.extend(lucky_numbers) # insert both lists\n",
        "friends.append(\"lakshman\") # add iteam end of list\n",
        "friends.insert(1,\"aruna\") # add something at position one\n",
        "friends.remove(\"venu\") # remove one element \n",
        "friends.clear() # remove all list\n",
        "friends.pop() #removes last element in list\n",
        "print(friends)\n",
        "print(friends.index(\"venu\")) \n",
        "print(friends.count(\"venu\")) # How many times this nam occurs\n",
        "friends.sort() # it put everything in alphabetical order\n",
        "lucky_numbers.reverse() # make the numbers into riverse\n",
        "\n",
        "friends2=friends.copy() # coping a list"
      ],
      "metadata": {
        "colab": {
          "base_uri": "https://localhost:8080/"
        },
        "id": "xNan3cAFjE0K",
        "outputId": "fb10fe02-7b9e-496a-a9a9-954428126d08"
      },
      "execution_count": null,
      "outputs": [
        {
          "output_type": "stream",
          "name": "stdout",
          "text": [
            "['aruna', 'mekala', 'gopala', 'reddy', 'sri', 'supreeth', 4, 5, 6, 3, 2, 44, 34, 'lakshman']\n"
          ]
        }
      ]
    },
    {
      "cell_type": "code",
      "source": [
        "#Tuples in python it will store multiple values\n",
        "coordinates = [(4,5),(6,7), (8,7)]\n",
        "print(coordinates[0])\n",
        "print(coordinates[1])\n",
        "coordinates[1] = 10 "
      ],
      "metadata": {
        "colab": {
          "base_uri": "https://localhost:8080/"
        },
        "id": "KAGLiz5Pnc9K",
        "outputId": "8d05a748-0d8f-47d0-ff91-f775d46239a1"
      },
      "execution_count": null,
      "outputs": [
        {
          "output_type": "stream",
          "name": "stdout",
          "text": [
            "(4, 5)\n",
            "10\n"
          ]
        }
      ]
    },
    {
      "cell_type": "code",
      "source": [
        "#Functions collection of code to perform specific task\n",
        "def sayhitovenu():\n",
        "  print(\"Hello venu\")\n",
        "\n",
        "print(\"Top\")\n",
        "sayhitovenu()\n",
        "print(\"Bottom\")"
      ],
      "metadata": {
        "id": "ARAoimq1oxhm",
        "outputId": "f863bc78-75ad-4dba-8c00-89f81bc5be27",
        "colab": {
          "base_uri": "https://localhost:8080/"
        }
      },
      "execution_count": null,
      "outputs": [
        {
          "output_type": "stream",
          "name": "stdout",
          "text": [
            "Top\n",
            "Hello venu\n",
            "Bottom\n"
          ]
        }
      ]
    },
    {
      "cell_type": "code",
      "source": [
        "def sayhi(name):\n",
        "  print(\"Hello \"+ name)\n",
        "\n",
        "sayhi(\"Venu\")\n",
        "sayhi(\"Uma\")"
      ],
      "metadata": {
        "id": "HsmTepxeAklc",
        "outputId": "5a16f656-54f7-43e7-ee42-4dce835d16ba",
        "colab": {
          "base_uri": "https://localhost:8080/"
        }
      },
      "execution_count": null,
      "outputs": [
        {
          "output_type": "stream",
          "name": "stdout",
          "text": [
            "Hello Venu\n",
            "Hello Uma\n"
          ]
        }
      ]
    },
    {
      "cell_type": "code",
      "source": [
        "def sayhi(name, age):\n",
        "  print(\"Hello \"+ name+ \" you are \"+ age)\n",
        "\n",
        "sayhi(\"Venu\", \"31\")\n",
        "sayhi(\"Uma\", \"24\")"
      ],
      "metadata": {
        "id": "YdJPC5GcA8VA",
        "outputId": "8afb660a-b858-4a8f-a6d2-4b8d899e9950",
        "colab": {
          "base_uri": "https://localhost:8080/"
        }
      },
      "execution_count": null,
      "outputs": [
        {
          "output_type": "stream",
          "name": "stdout",
          "text": [
            "Hello Venu you are 31\n",
            "Hello Uma you are 24\n"
          ]
        }
      ]
    },
    {
      "cell_type": "code",
      "source": [
        "def sayhi(name, age):\n",
        "  print(\"Hello \"+ name+ \" you are \"+ str(age))\n",
        "\n",
        "sayhi(\"Venu\", 31)\n",
        "sayhi(\"Uma\", 24)"
      ],
      "metadata": {
        "id": "NyiJfnnIBnfI",
        "outputId": "14d4e34a-ad89-488d-ec25-a14410e6625e",
        "colab": {
          "base_uri": "https://localhost:8080/"
        }
      },
      "execution_count": null,
      "outputs": [
        {
          "output_type": "stream",
          "name": "stdout",
          "text": [
            "Hello Venu you are 31\n",
            "Hello Uma you are 24\n"
          ]
        }
      ]
    },
    {
      "cell_type": "code",
      "source": [
        "# https://www.oreilly.com/library/view/elegant-scipy/9781491922927/ch01.html\n",
        "# TCGA DEG analysis in pythin\n",
        "# key SciPy concepts along the way to DEG analysis\n",
        "import numpy as np\n",
        "import pandas as pd\n",
        "def rpkm(counts, lengths):\n",
        "    \"\"\"Calculate reads per kilobase transcript per million reads.\n",
        "\n",
        "    RPKM = (10^9 * C) / (N * L)\n",
        "\n",
        "    Where:\n",
        "    C = Number of reads mapped to a gene\n",
        "    N = Total mapped reads in the experiment\n",
        "    L = Exon length in base pairs for a gene\n",
        "\n",
        "    Parameters\n",
        "    ----------\n",
        "    counts: array, shape (N_genes, N_samples)\n",
        "        RNAseq (or similar) count data where columns are individual samples\n",
        "        and rows are genes.\n",
        "    lengths: array, shape (N_genes,)\n",
        "        Gene lengths in base pairs in the same order\n",
        "        as the rows in counts.\n",
        "\n",
        "    Returns\n",
        "    -------\n",
        "    normed : array, shape (N_genes, N_samples)\n",
        "        The RPKM normalized counts matrix.\n",
        "    \"\"\"\n",
        "    N = np.sum(counts, axis=0)  # sum each column to get total reads per sample\n",
        "    L = lengths\n",
        "    C = counts\n",
        "\n",
        "    normed = 1e9 * C / (N[np.newaxis, :] * L[:, np.newaxis])\n",
        "\n",
        "    return(normed)"
      ],
      "metadata": {
        "id": "bbkaFyq9ROQG"
      },
      "execution_count": 2,
      "outputs": []
    },
    {
      "cell_type": "code",
      "source": [
        "# Example\n",
        "gene0 = [100, 200]\n",
        "gene1 = [50, 0]\n",
        "gene2 = [350, 100]\n",
        "expression_data = [gene0, gene1, gene2]\n",
        "print(expression_data)"
      ],
      "metadata": {
        "id": "3SCxH7l5vRAC",
        "outputId": "332a5a67-2bb2-492f-b3bf-7c529771ec54",
        "colab": {
          "base_uri": "https://localhost:8080/"
        }
      },
      "execution_count": null,
      "outputs": [
        {
          "output_type": "stream",
          "name": "stdout",
          "text": [
            "[[100, 200], [50, 0], [350, 100]]\n"
          ]
        }
      ]
    },
    {
      "cell_type": "code",
      "source": [
        "expression_data[2][0]"
      ],
      "metadata": {
        "id": "6tso-r3VxujW",
        "outputId": "a4d78e25-48e7-4806-80f9-6b97d072889a",
        "colab": {
          "base_uri": "https://localhost:8080/"
        }
      },
      "execution_count": null,
      "outputs": [
        {
          "output_type": "execute_result",
          "data": {
            "text/plain": [
              "350"
            ]
          },
          "metadata": {},
          "execution_count": 7
        }
      ]
    },
    {
      "cell_type": "code",
      "source": [
        "array1d=np.array([1,2,3,4])\n",
        "print(array1d)\n",
        "print(type(array1d))"
      ],
      "metadata": {
        "id": "TTeBC44Rx17D",
        "outputId": "927dc3f4-a656-4c1d-ac6b-d5d8cb315e78",
        "colab": {
          "base_uri": "https://localhost:8080/"
        }
      },
      "execution_count": null,
      "outputs": [
        {
          "output_type": "stream",
          "name": "stdout",
          "text": [
            "[1 2 3 4]\n",
            "<class 'numpy.ndarray'>\n"
          ]
        }
      ]
    },
    {
      "cell_type": "code",
      "source": [
        "print(array1d.shape)"
      ],
      "metadata": {
        "id": "BR2jux0Iy6vJ",
        "outputId": "0e4b6c15-e254-434e-b229-5204e8b45c2d",
        "colab": {
          "base_uri": "https://localhost:8080/"
        }
      },
      "execution_count": null,
      "outputs": [
        {
          "output_type": "stream",
          "name": "stdout",
          "text": [
            "(4,)\n"
          ]
        }
      ]
    },
    {
      "cell_type": "code",
      "source": [
        "array2d=np.array(expression_data)\n",
        "print(array2d)\n",
        "print(array2d.shape)\n",
        "print(type(array2d))"
      ],
      "metadata": {
        "id": "FetEXTaezQlJ",
        "outputId": "bafe471e-8c52-4aa6-d3cd-0ba0f3b9e76e",
        "colab": {
          "base_uri": "https://localhost:8080/"
        }
      },
      "execution_count": null,
      "outputs": [
        {
          "output_type": "stream",
          "name": "stdout",
          "text": [
            "[[100 200]\n",
            " [ 50   0]\n",
            " [350 100]]\n",
            "(3, 2)\n",
            "<class 'numpy.ndarray'>\n"
          ]
        }
      ]
    },
    {
      "cell_type": "code",
      "source": [
        "print(array2d.ndim)"
      ],
      "metadata": {
        "id": "EUIO9eZYzvAe",
        "outputId": "091689f5-94e1-4ced-e85d-0b33871e04b2",
        "colab": {
          "base_uri": "https://localhost:8080/"
        }
      },
      "execution_count": null,
      "outputs": [
        {
          "output_type": "stream",
          "name": "stdout",
          "text": [
            "2\n"
          ]
        }
      ]
    },
    {
      "cell_type": "code",
      "source": [
        "# create an ndarray of integers in the range\n",
        "# 0 up to (but not including) 1000000\n",
        "array=np.arange(1e6)\n",
        "# convert it to a list\n",
        "list_array=array.tolist()"
      ],
      "metadata": {
        "id": "_mu3TYebz9Ez"
      },
      "execution_count": null,
      "outputs": []
    },
    {
      "cell_type": "code",
      "source": [
        "%timeit -n10 y=[val*5 for val in list_array]"
      ],
      "metadata": {
        "id": "dK4OLT_O11el",
        "outputId": "0d7a3af8-d2d2-49c9-95e5-168a229a5978",
        "colab": {
          "base_uri": "https://localhost:8080/"
        }
      },
      "execution_count": null,
      "outputs": [
        {
          "output_type": "stream",
          "name": "stdout",
          "text": [
            "106 ms ± 4.59 ms per loop (mean ± std. dev. of 7 runs, 10 loops each)\n"
          ]
        }
      ]
    },
    {
      "cell_type": "code",
      "source": [
        "%timeit -n10 x = array * 5"
      ],
      "metadata": {
        "id": "v79cVnKR2fXe",
        "outputId": "f84429cd-054a-45c9-94d3-126854a07d69",
        "colab": {
          "base_uri": "https://localhost:8080/"
        }
      },
      "execution_count": null,
      "outputs": [
        {
          "output_type": "stream",
          "name": "stdout",
          "text": [
            "2.25 ms ± 412 µs per loop (mean ± std. dev. of 7 runs, 10 loops each)\n"
          ]
        }
      ]
    },
    {
      "cell_type": "code",
      "source": [
        "# create an ndarray y\n",
        "y= np.array ([1,2,3,4], np.int32)\n",
        "print(y)"
      ],
      "metadata": {
        "id": "lGkQPtQO2vHv",
        "colab": {
          "base_uri": "https://localhost:8080/"
        },
        "outputId": "df69fd8f-2e15-4cbe-9a8a-45527872f537"
      },
      "execution_count": 3,
      "outputs": [
        {
          "output_type": "stream",
          "name": "stdout",
          "text": [
            "[1 2 3 4]\n"
          ]
        }
      ]
    },
    {
      "cell_type": "code",
      "source": [
        "# Create a sub in y\n",
        "x = y[:2]\n",
        "print(x)"
      ],
      "metadata": {
        "colab": {
          "base_uri": "https://localhost:8080/"
        },
        "id": "63oBp0ANfBPy",
        "outputId": "27e7ab69-554e-4556-e3bf-a2678fa3c47b"
      },
      "execution_count": 6,
      "outputs": [
        {
          "output_type": "stream",
          "name": "stdout",
          "text": [
            "[1 2]\n"
          ]
        }
      ]
    },
    {
      "cell_type": "code",
      "source": [
        "# change first element in x from 1 to 8\n",
        "x[0] =8\n",
        "print(x)"
      ],
      "metadata": {
        "colab": {
          "base_uri": "https://localhost:8080/"
        },
        "id": "_OcrPwqNfdwv",
        "outputId": "513d8f36-f40d-4b85-b803-1c2e73f8799a"
      },
      "execution_count": 8,
      "outputs": [
        {
          "output_type": "stream",
          "name": "stdout",
          "text": [
            "[8 2]\n"
          ]
        }
      ]
    },
    {
      "cell_type": "code",
      "source": [
        "# Here we can obsaerved that x is a sub part of y- array so if x changes y also changes the element\n",
        "print(y)"
      ],
      "metadata": {
        "colab": {
          "base_uri": "https://localhost:8080/"
        },
        "id": "i6_MW87Tftzh",
        "outputId": "ab767ae5-0b03-4066-a2b8-96c1cf01617d"
      },
      "execution_count": 9,
      "outputs": [
        {
          "output_type": "stream",
          "name": "stdout",
          "text": [
            "[8 2 3 4]\n"
          ]
        }
      ]
    },
    {
      "cell_type": "code",
      "source": [
        "# Vectarization \n",
        "y = np.array([1,2,3,4,5,6])\n",
        "print(y)"
      ],
      "metadata": {
        "colab": {
          "base_uri": "https://localhost:8080/"
        },
        "id": "0OspnDX2f35y",
        "outputId": "e4a438ad-5488-43d1-8859-fe3faf0e14ef"
      },
      "execution_count": 10,
      "outputs": [
        {
          "output_type": "stream",
          "name": "stdout",
          "text": [
            "[1 2 3 4 5 6]\n"
          ]
        }
      ]
    },
    {
      "cell_type": "code",
      "source": [
        "# we can multiplay whole array with single number can apply for every element in array\n",
        "print(y*8)"
      ],
      "metadata": {
        "colab": {
          "base_uri": "https://localhost:8080/"
        },
        "id": "g2et3Jb9gu2y",
        "outputId": "356814dd-bfe8-43f1-b4d5-e35167f12706"
      },
      "execution_count": 11,
      "outputs": [
        {
          "output_type": "stream",
          "name": "stdout",
          "text": [
            "[ 8 16 24 32 40 48]\n"
          ]
        }
      ]
    },
    {
      "cell_type": "code",
      "source": [
        "x = np.array([0,7,9,6,5,3])\n",
        "print(x)"
      ],
      "metadata": {
        "colab": {
          "base_uri": "https://localhost:8080/"
        },
        "id": "It7YII_RhHXA",
        "outputId": "53261b47-4268-4f7d-ab94-d73b010f77b7"
      },
      "execution_count": 15,
      "outputs": [
        {
          "output_type": "stream",
          "name": "stdout",
          "text": [
            "[0 7 9 6 5 3]\n"
          ]
        }
      ]
    },
    {
      "cell_type": "code",
      "source": [
        "# both x and y must have same lenght.\n",
        "print(y+x)"
      ],
      "metadata": {
        "colab": {
          "base_uri": "https://localhost:8080/"
        },
        "id": "U-Oe8DNbhVlq",
        "outputId": "eec68751-cd67-4123-91ec-fb6ccf004198"
      },
      "execution_count": 16,
      "outputs": [
        {
          "output_type": "stream",
          "name": "stdout",
          "text": [
            "[ 1  9 12 10 10  9]\n"
          ]
        }
      ]
    },
    {
      "cell_type": "code",
      "source": [
        "# Broadcasting \n",
        "x= np.array([1,2,3,4,9])\n",
        "x=np.reshape(x, (len(x),1))\n",
        "print(x)"
      ],
      "metadata": {
        "colab": {
          "base_uri": "https://localhost:8080/"
        },
        "id": "T5GkN6r0hqIU",
        "outputId": "5a29c236-0e4b-4a67-aed2-51459061b7fe"
      },
      "execution_count": 20,
      "outputs": [
        {
          "output_type": "stream",
          "name": "stdout",
          "text": [
            "[[1]\n",
            " [2]\n",
            " [3]\n",
            " [4]\n",
            " [9]]\n"
          ]
        }
      ]
    },
    {
      "cell_type": "code",
      "source": [
        "y=np.array([0,7,8,9,6])\n",
        "y=np.reshape(y,(1,len(y)))\n",
        "print(y)"
      ],
      "metadata": {
        "colab": {
          "base_uri": "https://localhost:8080/"
        },
        "id": "beCT7VKTi4Ci",
        "outputId": "96670f53-4096-4888-8e15-db71a77b098b"
      },
      "execution_count": 18,
      "outputs": [
        {
          "output_type": "stream",
          "name": "stdout",
          "text": [
            "[[0 7 8 9 6]]\n"
          ]
        }
      ]
    },
    {
      "cell_type": "code",
      "source": [
        "print(x.shape)\n",
        "print(y.shape)"
      ],
      "metadata": {
        "colab": {
          "base_uri": "https://localhost:8080/"
        },
        "id": "y-53SdXljgt0",
        "outputId": "0c87d524-61b3-442e-c9b0-7cd407cc53d0"
      },
      "execution_count": 21,
      "outputs": [
        {
          "output_type": "stream",
          "name": "stdout",
          "text": [
            "(5, 1)\n",
            "(1, 5)\n"
          ]
        }
      ]
    },
    {
      "cell_type": "code",
      "source": [
        "outer=x*y\n",
        "print(outer)"
      ],
      "metadata": {
        "colab": {
          "base_uri": "https://localhost:8080/"
        },
        "id": "q-n1p6uIjzbW",
        "outputId": "7bcba9a3-4955-45c2-9a6b-d65caf15d6f8"
      },
      "execution_count": 22,
      "outputs": [
        {
          "output_type": "stream",
          "name": "stdout",
          "text": [
            "[[ 0  7  8  9  6]\n",
            " [ 0 14 16 18 12]\n",
            " [ 0 21 24 27 18]\n",
            " [ 0 28 32 36 24]\n",
            " [ 0 63 72 81 54]]\n"
          ]
        }
      ]
    },
    {
      "cell_type": "code",
      "source": [
        "print(outer.shape)"
      ],
      "metadata": {
        "colab": {
          "base_uri": "https://localhost:8080/"
        },
        "id": "-TJrtkGPkMq0",
        "outputId": "ead38107-5cc1-4e15-e3a0-f46bb42d22cd"
      },
      "execution_count": 23,
      "outputs": [
        {
          "output_type": "stream",
          "name": "stdout",
          "text": [
            "(5, 5)\n"
          ]
        }
      ]
    },
    {
      "cell_type": "code",
      "source": [
        "# Exploring a Gene Expression Dataset\n",
        "# Reading the data with pandas\n",
        "import pandas as pd\n",
        "import numpy as np"
      ],
      "metadata": {
        "id": "NWD37ZFhkS_q"
      },
      "execution_count": 24,
      "outputs": []
    },
    {
      "cell_type": "code",
      "source": [
        "# Import TCGA melanoma data\n",
        "filename= 'data/counts.txt'\n",
        "with open(filename, 'rt') as D:\n",
        "  data_table =pd.read_csv(D, index_col=0)\n",
        "\n",
        "  print(data_table.iloc[:5,:5])"
      ],
      "metadata": {
        "colab": {
          "base_uri": "https://localhost:8080/",
          "height": 235
        },
        "id": "i9VfukF1pf5R",
        "outputId": "212c3b50-2184-409f-9623-06d7bb384bec"
      },
      "execution_count": 27,
      "outputs": [
        {
          "output_type": "error",
          "ename": "FileNotFoundError",
          "evalue": "ignored",
          "traceback": [
            "\u001b[0;31m---------------------------------------------------------------------------\u001b[0m",
            "\u001b[0;31mFileNotFoundError\u001b[0m                         Traceback (most recent call last)",
            "\u001b[0;32m<ipython-input-27-7a23f7081bda>\u001b[0m in \u001b[0;36m<module>\u001b[0;34m\u001b[0m\n\u001b[1;32m      1\u001b[0m \u001b[0;31m# Import TCGA melanoma data\u001b[0m\u001b[0;34m\u001b[0m\u001b[0;34m\u001b[0m\u001b[0;34m\u001b[0m\u001b[0m\n\u001b[1;32m      2\u001b[0m \u001b[0mfilename\u001b[0m\u001b[0;34m=\u001b[0m \u001b[0;34m'data/counts.txt'\u001b[0m\u001b[0;34m\u001b[0m\u001b[0;34m\u001b[0m\u001b[0m\n\u001b[0;32m----> 3\u001b[0;31m \u001b[0;32mwith\u001b[0m \u001b[0mopen\u001b[0m\u001b[0;34m(\u001b[0m\u001b[0mfilename\u001b[0m\u001b[0;34m,\u001b[0m \u001b[0;34m'rt'\u001b[0m\u001b[0;34m)\u001b[0m \u001b[0;32mas\u001b[0m \u001b[0mD\u001b[0m\u001b[0;34m:\u001b[0m\u001b[0;34m\u001b[0m\u001b[0;34m\u001b[0m\u001b[0m\n\u001b[0m\u001b[1;32m      4\u001b[0m   \u001b[0mdata_table\u001b[0m \u001b[0;34m=\u001b[0m\u001b[0mpd\u001b[0m\u001b[0;34m.\u001b[0m\u001b[0mread_csv\u001b[0m\u001b[0;34m(\u001b[0m\u001b[0mD\u001b[0m\u001b[0;34m,\u001b[0m \u001b[0mindex_col\u001b[0m\u001b[0;34m=\u001b[0m\u001b[0;36m0\u001b[0m\u001b[0;34m)\u001b[0m\u001b[0;34m\u001b[0m\u001b[0;34m\u001b[0m\u001b[0m\n\u001b[1;32m      5\u001b[0m \u001b[0;34m\u001b[0m\u001b[0m\n",
            "\u001b[0;31mFileNotFoundError\u001b[0m: [Errno 2] No such file or directory: 'data/counts.txt'"
          ]
        }
      ]
    },
    {
      "cell_type": "code",
      "source": [
        "# Sample names\n",
        "samples = list(data_table.columns)"
      ],
      "metadata": {
        "id": "_Xdn4rKwxfbq"
      },
      "execution_count": null,
      "outputs": []
    },
    {
      "cell_type": "code",
      "source": [
        "# Import gene lengths\n",
        "filename = 'data/genes.csv'\n",
        "with open(filename, 'rt') as f:\n",
        "    # Parse file with pandas, index by GeneSymbol\n",
        "    gene_info = pd.read_csv(f, index_col=0)\n",
        "print(gene_info.iloc[:5, :])"
      ],
      "metadata": {
        "id": "FFQyhMORxiep"
      },
      "execution_count": null,
      "outputs": []
    },
    {
      "cell_type": "code",
      "source": [
        "print(\"Genes in data_table: \", data_table.shape[0])\n",
        "print(\"Genes in gene_info: \", gene_info.shape[0])"
      ],
      "metadata": {
        "id": "DNc6p45FxnHb"
      },
      "execution_count": null,
      "outputs": []
    },
    {
      "cell_type": "code",
      "source": [
        "# Subset gene info to match the count data\n",
        "matched_index = pd.Index.intersection(data_table.index, gene_info.index)"
      ],
      "metadata": {
        "id": "HPa2-lpWxqZs"
      },
      "execution_count": null,
      "outputs": []
    },
    {
      "cell_type": "code",
      "source": [
        "# 2D ndarray containing expression counts for each gene in each individual\n",
        "counts = np.asarray(data_table.loc[matched_index], dtype=int)\n",
        "\n",
        "gene_names = np.array(matched_index)\n",
        "\n",
        "# Check how many genes and individuals were measured\n",
        "print(f'{counts.shape[0]} genes measured in {counts.shape[1]} individuals.')"
      ],
      "metadata": {
        "id": "9cj8JTQvxyw-"
      },
      "execution_count": null,
      "outputs": []
    },
    {
      "cell_type": "code",
      "source": [
        "# 1D ndarray containing the lengths of each gene\n",
        "gene_lengths = np.asarray(gene_info.loc[matched_index]['GeneLength'],\n",
        "                          dtype=int)"
      ],
      "metadata": {
        "id": "B7q-o892x3Uj"
      },
      "execution_count": null,
      "outputs": []
    },
    {
      "cell_type": "code",
      "source": [
        "print(counts.shape)\n",
        "print(gene_lengths.shape)"
      ],
      "metadata": {
        "id": "iQiO9z_ix8fi"
      },
      "execution_count": null,
      "outputs": []
    },
    {
      "cell_type": "code",
      "source": [
        "# Normalization\n",
        "# Make all plots appear inline in the Jupyter notebook from now onwards\n",
        "%matplotlib inline\n",
        "# Use our own style file for the plots\n",
        "import matplotlib.pyplot as plt\n",
        "plt.style.use('style/elegant.mplstyle')"
      ],
      "metadata": {
        "id": "vqzx7t1Ax9dd"
      },
      "execution_count": null,
      "outputs": []
    },
    {
      "cell_type": "code",
      "source": [
        "total_counts = np.sum(counts, axis=0)  # sum columns together\n",
        "                                       # (axis=1 would sum rows)\n",
        "\n",
        "from scipy import stats\n",
        "\n",
        "# Use Gaussian smoothing to estimate the density\n",
        "density = stats.kde.gaussian_kde(total_counts)\n",
        "\n",
        "# Make values for which to estimate the density, for plotting\n",
        "x = np.arange(min(total_counts), max(total_counts), 10000)\n",
        "\n",
        "# Make the density plot\n",
        "fig, ax = plt.subplots()\n",
        "ax.plot(x, density(x))\n",
        "ax.set_xlabel(\"Total counts per individual\")\n",
        "ax.set_ylabel(\"Density\")\n",
        "\n",
        "plt.show()\n",
        "\n",
        "print(f'Count statistics:\\n  min:  {np.min(total_counts)}'\n",
        "      f'\\n  mean: {np.mean(total_counts)}'\n",
        "      f'\\n  max:  {np.max(total_counts)}')"
      ],
      "metadata": {
        "id": "tMtpwhStyRin"
      },
      "execution_count": null,
      "outputs": []
    },
    {
      "cell_type": "code",
      "source": [
        "# Subset data for plotting\n",
        "np.random.seed(seed=7) # Set seed so we will get consistent results\n",
        "# Randomly select 70 samples\n",
        "samples_index = np.random.choice(range(counts.shape[1]), size=70, replace=False)\n",
        "counts_subset = counts[:, samples_index]"
      ],
      "metadata": {
        "id": "NsVon49HySqi"
      },
      "execution_count": null,
      "outputs": []
    },
    {
      "cell_type": "code",
      "source": [
        "# Some custom x-axis labelling to make our plots easier to read\n",
        "def reduce_xaxis_labels(ax, factor):\n",
        "    \"\"\"Show only every ith label to prevent crowding on x-axis\n",
        "        e.g. factor = 2 would plot every second x-axis label,\n",
        "        starting at the first.\n",
        "\n",
        "    Parameters\n",
        "    ----------\n",
        "    ax : matplotlib plot axis to be adjusted\n",
        "    factor : int, factor to reduce the number of x-axis labels by\n",
        "    \"\"\"\n",
        "    plt.setp(ax.xaxis.get_ticklabels(), visible=False)\n",
        "    for label in ax.xaxis.get_ticklabels()[factor-1::factor]:\n",
        "        label.set_visible(True)"
      ],
      "metadata": {
        "id": "0rKo4qe3yX2q"
      },
      "execution_count": null,
      "outputs": []
    },
    {
      "cell_type": "code",
      "source": [
        "# Bar plot of expression counts by individual\n",
        "fig, ax = plt.subplots(figsize=(4.8, 2.4))\n",
        "\n",
        "with plt.style.context('style/thinner.mplstyle'):\n",
        "    ax.boxplot(counts_subset)\n",
        "    ax.set_xlabel(\"Individuals\")\n",
        "    ax.set_ylabel(\"Gene expression counts\")\n",
        "    reduce_xaxis_labels(ax, 5)"
      ],
      "metadata": {
        "id": "extDCnmtyyB1"
      },
      "execution_count": null,
      "outputs": []
    },
    {
      "cell_type": "code",
      "source": [
        "# Bar plot of expression counts by individual\n",
        "fig, ax = plt.subplots(figsize=(4.8, 2.4))\n",
        "\n",
        "with plt.style.context('style/thinner.mplstyle'):\n",
        "    ax.boxplot(np.log(counts_subset + 1))\n",
        "    ax.set_xlabel(\"Individuals\")\n",
        "    ax.set_ylabel(\"log gene expression counts\")\n",
        "    reduce_xaxis_labels(ax, 5)"
      ],
      "metadata": {
        "id": "tuBjllmfy0__"
      },
      "execution_count": null,
      "outputs": []
    },
    {
      "cell_type": "code",
      "source": [
        "# Normalize by library size\n",
        "# Divide the expression counts by the total counts for that individual\n",
        "# Multiply by 1 million to get things back in a similar scale\n",
        "counts_lib_norm = counts / total_counts * 1000000\n",
        "# Notice how we just used broadcasting twice there!\n",
        "counts_subset_lib_norm = counts_lib_norm[:,samples_index]\n",
        "\n",
        "# Bar plot of expression counts by individual\n",
        "fig, ax = plt.subplots(figsize=(4.8, 2.4))\n",
        "\n",
        "with plt.style.context('style/thinner.mplstyle'):\n",
        "    ax.boxplot(np.log(counts_subset_lib_norm + 1))\n",
        "    ax.set_xlabel(\"Individuals\")\n",
        "    ax.set_ylabel(\"log gene expression counts\")\n",
        "    reduce_xaxis_labels(ax, 5)"
      ],
      "metadata": {
        "id": "XYjq-mOW2YBB"
      },
      "execution_count": null,
      "outputs": []
    },
    {
      "cell_type": "code",
      "source": [
        "import itertools as it\n",
        "from collections import defaultdict\n",
        "\n",
        "\n",
        "def class_boxplot(data, classes, colors=None, **kwargs):\n",
        "    \"\"\"Make a boxplot with boxes colored according to the class they belong to.\n",
        "\n",
        "    Parameters\n",
        "    ----------\n",
        "    data : list of array-like of float\n",
        "        The input data. One boxplot will be generated for each element\n",
        "        in `data`.\n",
        "    classes : list of string, same length as `data`\n",
        "        The class each distribution in `data` belongs to.\n",
        "\n",
        "    Other parameters\n",
        "    ----------------\n",
        "    kwargs : dict\n",
        "        Keyword arguments to pass on to `plt.boxplot`.\n",
        "    \"\"\"\n",
        "    all_classes = sorted(set(classes))\n",
        "    colors = plt.rcParams['axes.prop_cycle'].by_key()['color']\n",
        "    class2color = dict(zip(all_classes, it.cycle(colors)))\n",
        "\n",
        "    # map classes to data vectors\n",
        "    # other classes get an empty list at that position for offset\n",
        "    class2data = defaultdict(list)\n",
        "    for distrib, cls in zip(data, classes):\n",
        "        for c in all_classes:\n",
        "            class2data[c].append([])\n",
        "        class2data[cls][-1] = distrib\n",
        "\n",
        "    # then, do each boxplot in turn with the appropriate color\n",
        "    fig, ax = plt.subplots()\n",
        "    lines = []\n",
        "    for cls in all_classes:\n",
        "        # set color for all elements of the boxplot\n",
        "        for key in ['boxprops', 'whiskerprops', 'flierprops']:\n",
        "            kwargs.setdefault(key, {}).update(color=class2color[cls])\n",
        "        # draw the boxplot\n",
        "        box = ax.boxplot(class2data[cls], **kwargs)\n",
        "        lines.append(box['whiskers'][0])\n",
        "    ax.legend(lines, all_classes)\n",
        "    return ax"
      ],
      "metadata": {
        "id": "56Y4RzNJ2w_x"
      },
      "execution_count": null,
      "outputs": []
    },
    {
      "cell_type": "code",
      "source": [
        "log_counts_3 = list(np.log(counts.T[:3] + 1))\n",
        "log_ncounts_3 = list(np.log(counts_lib_norm.T[:3] + 1))\n",
        "ax = class_boxplot(log_counts_3 + log_ncounts_3,\n",
        "                   ['raw counts'] * 3 + ['normalized by library size'] * 3,\n",
        "                   labels=[1, 2, 3, 1, 2, 3])\n",
        "ax.set_xlabel('sample number')\n",
        "ax.set_ylabel('log gene expression counts');\n"
      ],
      "metadata": {
        "id": "QrpVwvZE2zD3"
      },
      "execution_count": null,
      "outputs": []
    },
    {
      "cell_type": "code",
      "source": [
        "def binned_boxplot(x, y, *,  # check out this Python 3 exclusive! (*see tip box)\n",
        "                   xlabel='gene length (log scale)',\n",
        "                   ylabel='average log counts'):\n",
        "    \"\"\"Plot the distribution of `y` dependent on `x` using many boxplots.\n",
        "\n",
        "    Note: all inputs are expected to be log-scaled.\n",
        "\n",
        "    Parameters\n",
        "    ----------\n",
        "    x: 1D array of float\n",
        "        Independent variable values.\n",
        "    y: 1D array of float\n",
        "        Dependent variable values.\n",
        "    \"\"\"\n",
        "    # Define bins of `x` depending on density of observations\n",
        "    x_hist, x_bins = np.histogram(x, bins='auto')\n",
        "\n",
        "    # Use `np.digitize` to number the bins\n",
        "    # Discard the last bin edge because it breaks the right-open assumption\n",
        "    # of `digitize`. The max observation correctly goes into the last bin.\n",
        "    x_bin_idxs = np.digitize(x, x_bins[:-1])\n",
        "\n",
        "    # Use those indices to create a list of arrays, each containing the `y`\n",
        "    # values corresponding to `x`s in that bin. This is the input format\n",
        "    # expected by `plt.boxplot`\n",
        "    binned_y = [y[x_bin_idxs == i]\n",
        "                for i in range(np.max(x_bin_idxs))]\n",
        "    fig, ax = plt.subplots(figsize=(4.8,1))\n",
        "\n",
        "    # Make the x-axis labels using the bin centers\n",
        "    x_bin_centers = (x_bins[1:] + x_bins[:-1]) / 2\n",
        "    x_ticklabels = np.round(np.exp(x_bin_centers)).astype(int)\n",
        "\n",
        "    # make the boxplot\n",
        "    ax.boxplot(binned_y, labels=x_ticklabels)\n",
        "\n",
        "    # show only every 10th label to prevent crowding on x-axis\n",
        "    reduce_xaxis_labels(ax, 10)\n",
        "\n",
        "    # Adjust the axis names\n",
        "    ax.set_xlabel(xlabel)\n",
        "    ax.set_ylabel(ylabel);"
      ],
      "metadata": {
        "id": "77exuvF_27kG"
      },
      "execution_count": null,
      "outputs": []
    },
    {
      "cell_type": "code",
      "source": [
        ">>> binned_boxplot(x, y, xlabel='my x label', ylabel='my y label')"
      ],
      "metadata": {
        "id": "hea4l4ZB28if"
      },
      "execution_count": null,
      "outputs": []
    },
    {
      "cell_type": "code",
      "source": [
        ">>> binned_boxplot(x, y, 'my x label', 'my y label')\n",
        "\n",
        "---------------------------------------------------------------------------\n",
        "TypeError                                 Traceback (most recent call last)\n",
        "<ipython-input-58-7a118d2d5750in <module>()\n",
        "    1 x_vals = [1, 2, 3, 4, 5]\n",
        "    2 y_vals = [1, 2, 3, 4, 5]\n",
        "----3 binned_boxplot(x, y, 'my x label', 'my y label')\n",
        "\n",
        "TypeError: binned_boxplot() takes 2 positional arguments but 4 were given"
      ],
      "metadata": {
        "id": "rx90OmRJ3B3c"
      },
      "execution_count": null,
      "outputs": []
    },
    {
      "cell_type": "code",
      "source": [
        "binned_boxplot(x, y, 'my y label')"
      ],
      "metadata": {
        "id": "g0rI0Kv83GTI"
      },
      "execution_count": null,
      "outputs": []
    },
    {
      "cell_type": "code",
      "source": [
        "log_counts = np.log(counts_lib_norm + 1)\n",
        "mean_log_counts = np.mean(log_counts, axis=1)  # across samples\n",
        "log_gene_lengths = np.log(gene_lengths)\n",
        "\n",
        "with plt.style.context('style/thinner.mplstyle'):\n",
        "    binned_boxplot(x=log_gene_lengths, y=mean_log_counts)"
      ],
      "metadata": {
        "id": "9N_Xxtg23LmD"
      },
      "execution_count": null,
      "outputs": []
    },
    {
      "cell_type": "code",
      "source": [
        "#Normalizing Over Samples and Genes: RPKM\n",
        "# Make our variable names the same as the RPKM formula so we can compare easily\n",
        "C = counts\n",
        "N = counts.sum(axis=0)  # sum each column to get total reads per sample\n",
        "L = gene_lengths  # lengths for each gene, matching rows in `C`"
      ],
      "metadata": {
        "id": "BekzCwUu3NSY"
      },
      "execution_count": null,
      "outputs": []
    },
    {
      "cell_type": "code",
      "source": [
        "# Multiply all counts by 10^9\n",
        "C_tmp = 10^9 * C"
      ],
      "metadata": {
        "id": "R736V-Y6335a"
      },
      "execution_count": null,
      "outputs": []
    },
    {
      "cell_type": "code",
      "source": [
        "print('C_tmp.shape', C_tmp.shape)\n",
        "print('L.shape', L.shape)\n",
        "C_tmp.shape (20500, 375)\n",
        "L.shape (20500,)"
      ],
      "metadata": {
        "id": "kyx9Clzg34wo"
      },
      "execution_count": null,
      "outputs": []
    },
    {
      "cell_type": "code",
      "source": [
        "L = L[:, np.newaxis] # append a dimension to L, with value 1\n",
        "print('C_tmp.shape', C_tmp.shape)\n",
        "print('L.shape', L.shape)"
      ],
      "metadata": {
        "id": "qVi8-NHW3_qw"
      },
      "execution_count": null,
      "outputs": []
    },
    {
      "cell_type": "code",
      "source": [
        "# Divide each row by the gene length for that gene (L)\n",
        "C_tmp = C_tmp / L"
      ],
      "metadata": {
        "id": "MieTTrGu4Cqh"
      },
      "execution_count": null,
      "outputs": []
    },
    {
      "cell_type": "code",
      "source": [
        "# Check the shapes of C_tmp and N\n",
        "print('C_tmp.shape', C_tmp.shape)\n",
        "print('N.shape', N.shape)"
      ],
      "metadata": {
        "id": "v2Pysq4N4FiI"
      },
      "execution_count": null,
      "outputs": []
    },
    {
      "cell_type": "code",
      "source": [
        "# Divide each column by the total counts for that column (N)\n",
        "N = N[np.newaxis, :]\n",
        "print('C_tmp.shape', C_tmp.shape)\n",
        "print('N.shape', N.shape)"
      ],
      "metadata": {
        "id": "7jskO39_4JQ5"
      },
      "execution_count": null,
      "outputs": []
    },
    {
      "cell_type": "code",
      "source": [
        "# Divide each column by the total counts for that column (N)\n",
        "rpkm_counts = C_tmp / N"
      ],
      "metadata": {
        "id": "TeM_dPoQ4Lwo"
      },
      "execution_count": null,
      "outputs": []
    },
    {
      "cell_type": "code",
      "source": [
        "def rpkm(counts, lengths):\n",
        "    \"\"\"Calculate reads per kilobase transcript per million reads.\n",
        "\n",
        "    RPKM = (10^9 * C) / (N * L)\n",
        "\n",
        "    Where:\n",
        "    C = Number of reads mapped to a gene\n",
        "    N = Total mapped reads in the experiment\n",
        "    L = Exon length in base pairs for a gene\n",
        "\n",
        "    Parameters\n",
        "    ----------\n",
        "    counts: array, shape (N_genes, N_samples)\n",
        "        RNAseq (or similar) count data where columns are individual samples\n",
        "        and rows are genes.\n",
        "    lengths: array, shape (N_genes,)\n",
        "        Gene lengths in base pairs in the same order\n",
        "        as the rows in counts.\n",
        "\n",
        "    Returns\n",
        "    -------\n",
        "    normed : array, shape (N_genes, N_samples)\n",
        "        The RPKM normalized counts matrix.\n",
        "    \"\"\"\n",
        "    N = np.sum(counts, axis=0)  # sum each column to get total reads per sample\n",
        "    L = lengths\n",
        "    C = counts\n",
        "\n",
        "    normed = 1e9 * C / (N[np.newaxis, :] * L[:, np.newaxis])\n",
        "\n",
        "    return(normed)"
      ],
      "metadata": {
        "id": "WtKlj1Fg4Q5p"
      },
      "execution_count": null,
      "outputs": []
    },
    {
      "cell_type": "code",
      "source": [
        "counts_rpkm = rpkm(counts, gene_lengths)"
      ],
      "metadata": {
        "id": "2Xv2JmIc4SFH"
      },
      "execution_count": null,
      "outputs": []
    },
    {
      "cell_type": "code",
      "source": [
        "# RPKM between gene normalization\n",
        "log_counts = np.log(counts + 1)\n",
        "mean_log_counts = np.mean(log_counts, axis=1)\n",
        "log_gene_lengths = np.log(gene_lengths)\n",
        "\n",
        "with plt.style.context('style/thinner.mplstyle'):\n",
        "    binned_boxplot(x=log_gene_lengths, y=mean_log_counts)"
      ],
      "metadata": {
        "id": "uP1k1NLJ4Uhs"
      },
      "execution_count": null,
      "outputs": []
    },
    {
      "cell_type": "code",
      "source": [
        "log_counts = np.log(counts_rpkm + 1)\n",
        "mean_log_counts = np.mean(log_counts, axis=1)\n",
        "log_gene_lengths = np.log(gene_lengths)\n",
        "\n",
        "with plt.style.context('style/thinner.mplstyle'):\n",
        "    binned_boxplot(x=log_gene_lengths, y=mean_log_counts)"
      ],
      "metadata": {
        "id": "3PT5yP484ZqO"
      },
      "execution_count": null,
      "outputs": []
    },
    {
      "cell_type": "code",
      "source": [
        "gene_idxs = np.array([80, 186])\n",
        "gene1, gene2 = gene_names[gene_idxs]\n",
        "len1, len2 = gene_lengths[gene_idxs]\n",
        "gene_labels = [f'{gene1}, {len1}bp', f'{gene2}, {len2}bp']\n",
        "\n",
        "log_counts = list(np.log(counts[gene_idxs] + 1))\n",
        "log_ncounts = list(np.log(counts_rpkm[gene_idxs] + 1))\n",
        "\n",
        "ax = class_boxplot(log_counts,\n",
        "                   ['raw counts'] * 3,\n",
        "                   labels=gene_labels)\n",
        "ax.set_xlabel('Genes')\n",
        "ax.set_ylabel('log gene expression counts over all samples');"
      ],
      "metadata": {
        "id": "O0xNDHL-4cY9"
      },
      "execution_count": null,
      "outputs": []
    },
    {
      "cell_type": "code",
      "source": [
        "ax = class_boxplot(log_ncounts,\n",
        "                   ['RPKM normalized'] * 3,\n",
        "                   labels=gene_labels)\n",
        "ax.set_xlabel('Genes')\n",
        "ax.set_ylabel('log RPKM gene expression counts over all samples');"
      ],
      "metadata": {
        "id": "9eHpdoTA4fkq"
      },
      "execution_count": null,
      "outputs": []
    },
    {
      "cell_type": "code",
      "source": [
        "# Chapter 2. Quantile Normalization with NumPy and SciPy\n",
        "import numpy as np\n",
        "from scipy import stats\n",
        "\n",
        "def quantile_norm(X):\n",
        "    \"\"\"Normalize the columns of X to each have the same distribution.\n",
        "\n",
        "    Given an expression matrix (microarray data, read counts, etc) of M genes\n",
        "    by N samples, quantile normalization ensures all samples have the same\n",
        "    spread of data (by construction).\n",
        "\n",
        "    The data across each row are averaged to obtain an average column. Each\n",
        "    column quantile is replaced with the corresponding quantile of the average\n",
        "    column.\n",
        "\n",
        "    Parameters\n",
        "    ----------\n",
        "    X : 2D array of float, shape (M, N)\n",
        "        The input data, with M rows (genes/features) and N columns (samples).\n",
        "\n",
        "    Returns\n",
        "    -------\n",
        "    Xn : 2D array of float, shape (M, N)\n",
        "        The normalized data.\n",
        "    \"\"\"\n",
        "    # compute the quantiles\n",
        "    quantiles = np.mean(np.sort(X, axis=0), axis=1)\n",
        "\n",
        "    # compute the column-wise ranks. Each observation is replaced with its\n",
        "    # rank in that column: the smallest observation is replaced by 1, the\n",
        "    # second-smallest by 2, ..., and the largest by M, the number of rows.\n",
        "    ranks = np.apply_along_axis(stats.rankdata, 0, X)\n",
        "\n",
        "    # convert ranks to integer indices from 0 to M-1\n",
        "    rank_indices = ranks.astype(int) - 1\n",
        "\n",
        "    # index the quantiles for each rank with the ranks matrix\n",
        "    Xn = quantiles[rank_indices]\n",
        "\n",
        "    return(Xn)"
      ],
      "metadata": {
        "id": "lH69ewwG4lVf"
      },
      "execution_count": null,
      "outputs": []
    },
    {
      "cell_type": "code",
      "source": [
        "def quantile_norm_log(X):\n",
        "    logX = np.log(X + 1)\n",
        "    logXn = quantile_norm(logX)\n",
        "    return logXn"
      ],
      "metadata": {
        "id": "70xCoxdk5Hvc"
      },
      "execution_count": null,
      "outputs": []
    },
    {
      "cell_type": "code",
      "source": [
        "import numpy as np\n",
        "import pandas as pd\n",
        "\n",
        "# Import TCGA melanoma data\n",
        "filename = 'data/counts.txt'\n",
        "data_table = pd.read_csv(filename, index_col=0)  # Parse file with pandas\n",
        "\n",
        "print(data_table.iloc[:5, :5])"
      ],
      "metadata": {
        "id": "Ihu3S-hN5JnA"
      },
      "execution_count": null,
      "outputs": []
    },
    {
      "cell_type": "code",
      "source": [
        "#Gene Expression Distribution Differences Between Individuals\n",
        "# Make plots appear inline, set custom plotting style\n",
        "%matplotlib inline\n",
        "import matplotlib.pyplot as plt\n",
        "plt.style.use('style/elegant.mplstyle')"
      ],
      "metadata": {
        "id": "0R5g6Q5z5NCU"
      },
      "execution_count": null,
      "outputs": []
    },
    {
      "cell_type": "code",
      "source": [
        "from scipy import stats\n",
        "\n",
        "def plot_col_density(data):\n",
        "    \"\"\"For each column, produce a density plot over all rows.\"\"\"\n",
        "\n",
        "    # Use Gaussian smoothing to estimate the density\n",
        "    density_per_col = [stats.gaussian_kde(col) for col in data.T]\n",
        "    x = np.linspace(np.min(data), np.max(data), 100)\n",
        "\n",
        "    fig, ax = plt.subplots()\n",
        "    for density in density_per_col:\n",
        "        ax.plot(x, density(x))\n",
        "    ax.set_xlabel('Data values (per column)')\n",
        "    ax.set_ylabel('Density')"
      ],
      "metadata": {
        "id": "wZeDKi2c5S7o"
      },
      "execution_count": null,
      "outputs": []
    },
    {
      "cell_type": "code",
      "source": [
        "# Before normalization\n",
        "log_counts = np.log(counts + 1)\n",
        "plot_col_density(log_counts)"
      ],
      "metadata": {
        "id": "6ZUD6REC5V5v"
      },
      "execution_count": null,
      "outputs": []
    },
    {
      "cell_type": "code",
      "source": [
        "import numpy as np\n",
        "from scipy import stats\n",
        "\n",
        "def quantile_norm(X):\n",
        "    \"\"\"Normalize the columns of X to each have the same distribution.\n",
        "\n",
        "    Given an expression matrix (microarray data, read counts, etc.) of M genes\n",
        "    by N samples, quantile normalization ensures all samples have the same\n",
        "    spread of data (by construction).\n",
        "\n",
        "    The data across each row are averaged to obtain an average column. Each\n",
        "    column quantile is replaced with the corresponding quantile of the average\n",
        "    column.\n",
        "\n",
        "    Parameters\n",
        "    ----------\n",
        "    X : 2D array of float, shape (M, N)\n",
        "        The input data, with M rows (genes/features) and N columns (samples).\n",
        "\n",
        "    Returns\n",
        "    -------\n",
        "    Xn : 2D array of float, shape (M, N)\n",
        "        The normalized data.\n",
        "    \"\"\"\n",
        "    # compute the quantiles\n",
        "    quantiles = np.mean(np.sort(X, axis=0), axis=1)\n",
        "\n",
        "    # compute the column-wise ranks. Each observation is replaced with its\n",
        "    # rank in that column: the smallest observation is replaced by 1, the\n",
        "    # second-smallest by 2, ..., and the largest by M, the number of rows.\n",
        "    ranks = np.apply_along_axis(stats.rankdata, 0, X)\n",
        "\n",
        "    # convert ranks to integer indices from 0 to M-1\n",
        "    rank_indices = ranks.astype(int) - 1\n",
        "\n",
        "    # index the quantiles for each rank with the ranks matrix\n",
        "    Xn = quantiles[rank_indices]\n",
        "\n",
        "    return(Xn)\n",
        "\n",
        "\n",
        "def quantile_norm_log(X):\n",
        "    logX = np.log(X + 1)\n",
        "    logXn = quantile_norm(logX)\n",
        "    return logXn"
      ],
      "metadata": {
        "id": "Bd0Chjy75YHo"
      },
      "execution_count": null,
      "outputs": []
    },
    {
      "cell_type": "code",
      "source": [
        "# After normalization\n",
        "log_counts_normalized = quantile_norm_log(counts)\n",
        "\n",
        "plot_col_density(log_counts_normalized)"
      ],
      "metadata": {
        "id": "3t-2RgPH5ip1"
      },
      "execution_count": null,
      "outputs": []
    },
    {
      "cell_type": "code",
      "source": [
        "#Biclustering the Counts Data\n",
        "def most_variable_rows(data, *, n=1500):\n",
        "    \"\"\"Subset data to the n most variable rows\n",
        "\n",
        "    In this case, we want the n most variable genes.\n",
        "\n",
        "    Parameters\n",
        "    ----------\n",
        "    data : 2D array of float\n",
        "        The data to be subset\n",
        "    n : int, optional\n",
        "        Number of rows to return.\n",
        "\n",
        "    Returns\n",
        "    -------\n",
        "    variable_data : 2D array of float\n",
        "        The `n` rows of `data` that exhibit the most variance.\n",
        "    \"\"\"\n",
        "    # compute variance along the columns axis\n",
        "    rowvar = np.var(data, axis=1)\n",
        "    # Get sorted indices (ascending order), take the last n\n",
        "    sort_indices = np.argsort(rowvar)[-n:]\n",
        "    # use as index for data\n",
        "    variable_data = data[sort_indices, :]\n",
        "    return variable_data"
      ],
      "metadata": {
        "id": "VaRfmW9u5jzM"
      },
      "execution_count": null,
      "outputs": []
    },
    {
      "cell_type": "code",
      "source": [
        "from scipy.cluster.hierarchy import linkage\n",
        "\n",
        "\n",
        "def bicluster(data, linkage_method='average', distance_metric='correlation'):\n",
        "    \"\"\"Cluster the rows and the columns of a matrix.\n",
        "\n",
        "    Parameters\n",
        "    ----------\n",
        "    data : 2D ndarray\n",
        "        The input data to bicluster.\n",
        "    linkage_method : string, optional\n",
        "        Method to be passed to `linkage`.\n",
        "    distance_metric : string, optional\n",
        "        Distance metric to use for clustering. See the documentation\n",
        "        for ``scipy.spatial.distance.pdist`` for valid metrics.\n",
        "\n",
        "    Returns\n",
        "    -------\n",
        "    y_rows : linkage matrix\n",
        "        The clustering of the rows of the input data.\n",
        "    y_cols : linkage matrix\n",
        "        The clustering of the cols of the input data.\n",
        "    \"\"\"\n",
        "    y_rows = linkage(data, method=linkage_method, metric=distance_metric)\n",
        "    y_cols = linkage(data.T, method=linkage_method, metric=distance_metric)\n",
        "    return y_rows, y_cols"
      ],
      "metadata": {
        "id": "QaTe9oTF56lO"
      },
      "execution_count": null,
      "outputs": []
    },
    {
      "cell_type": "code",
      "source": [
        "# Visualizing Clusters\n",
        "from scipy.cluster.hierarchy import dendrogram, leaves_list\n",
        "\n",
        "\n",
        "def clear_spines(axes):\n",
        "    for loc in ['left', 'right', 'top', 'bottom']:\n",
        "        axes.spines[loc].set_visible(False)\n",
        "    axes.set_xticks([])\n",
        "    axes.set_yticks([])\n",
        "\n",
        "\n",
        "def plot_bicluster(data, row_linkage, col_linkage,\n",
        "                   row_nclusters=10, col_nclusters=3):\n",
        "    \"\"\"Perform a biclustering, plot a heatmap with dendrograms on each axis.\n",
        "\n",
        "    Parameters\n",
        "    ----------\n",
        "    data : array of float, shape (M, N)\n",
        "        The input data to bicluster.\n",
        "    row_linkage : array, shape (M-1, 4)\n",
        "        The linkage matrix for the rows of `data`.\n",
        "    col_linkage : array, shape (N-1, 4)\n",
        "        The linkage matrix for the columns of `data`.\n",
        "    n_clusters_r, n_clusters_c : int, optional\n",
        "        Number of clusters for rows and columns.\n",
        "    \"\"\"\n",
        "    fig = plt.figure(figsize=(4.8, 4.8))\n",
        "\n",
        "    # Compute and plot row-wise dendrogram\n",
        "    # `add_axes` takes a \"rectangle\" input to add a subplot to a figure.\n",
        "    # The figure is considered to have side-length 1 on each side, and its\n",
        "    # bottom-left corner is at (0, 0).\n",
        "    # The measurements passed to `add_axes` are the left, bottom, width, and\n",
        "    # height of the subplot. Thus, to draw the left dendrogram (for the rows),\n",
        "    # we create a rectangle whose bottom-left corner is at (0.09, 0.1), and\n",
        "    # measuring 0.2 in width and 0.6 in height.\n",
        "    ax1 = fig.add_axes([0.09, 0.1, 0.2, 0.6])\n",
        "    # For a given number of clusters, we can obtain a cut of the linkage\n",
        "    # tree by looking at the corresponding distance annotation in the linkage\n",
        "    # matrix.\n",
        "    threshold_r = (row_linkage[-row_nclusters, 2] +\n",
        "                   row_linkage[-row_nclusters+1, 2]) / 2\n",
        "    with plt.rc_context({'lines.linewidth': 0.75}):\n",
        "        dendrogram(row_linkage, orientation='left',\n",
        "                   color_threshold=threshold_r, ax=ax1)\n",
        "    clear_spines(ax1)\n",
        "\n",
        "    # Compute and plot column-wise dendrogram\n",
        "    # See notes above for explanation of parameters to `add_axes`\n",
        "    ax2 = fig.add_axes([0.3, 0.71, 0.6, 0.2])\n",
        "    threshold_c = (col_linkage[-col_nclusters, 2] +\n",
        "                   col_linkage[-col_nclusters+1, 2]) / 2\n",
        "    with plt.rc_context({'lines.linewidth': 0.75}):\n",
        "        dendrogram(col_linkage, color_threshold=threshold_c, ax=ax2)\n",
        "    clear_spines(ax2)\n",
        "\n",
        "    # Plot data heatmap\n",
        "    ax = fig.add_axes([0.3, 0.1, 0.6, 0.6])\n",
        "\n",
        "    # Sort data by the dendrogram leaves\n",
        "    idx_rows = leaves_list(row_linkage)\n",
        "    data = data[idx_rows, :]\n",
        "    idx_cols = leaves_list(col_linkage)\n",
        "    data = data[:, idx_cols]\n",
        "\n",
        "    im = ax.imshow(data, aspect='auto', origin='lower', cmap='YlGnBu_r')\n",
        "    clear_spines(ax)\n",
        "\n",
        "    # Axis labels\n",
        "    ax.set_xlabel('Samples')\n",
        "    ax.set_ylabel('Genes', labelpad=125)\n",
        "\n",
        "    # Plot legend\n",
        "    axcolor = fig.add_axes([0.91, 0.1, 0.02, 0.6])\n",
        "    plt.colorbar(im, cax=axcolor)\n",
        "\n",
        "    # display the plot\n",
        "    plt.show()"
      ],
      "metadata": {
        "id": "W-v2gxC06GXO"
      },
      "execution_count": null,
      "outputs": []
    },
    {
      "cell_type": "code",
      "source": [
        "counts_log = np.log(counts + 1)\n",
        "counts_var = most_variable_rows(counts_log, n=1500)\n",
        "yr, yc = bicluster(counts_var, linkage_method='ward',\n",
        "                   distance_metric='euclidean')\n",
        "with plt.style.context('style/thinner.mplstyle'):\n",
        "    plot_bicluster(counts_var, yr, yc)"
      ],
      "metadata": {
        "id": "lfFbyZM96Q47"
      },
      "execution_count": null,
      "outputs": []
    },
    {
      "cell_type": "code",
      "source": [
        "# Predicting Survival\n",
        "patients = pd.read_csv('data/patients.csv', index_col=0)\n",
        "patients.head()"
      ],
      "metadata": {
        "id": "W5pGnACq6Uji"
      },
      "execution_count": null,
      "outputs": []
    },
    {
      "cell_type": "code",
      "source": [
        "def survival_distribution_function(lifetimes, right_censored=None):\n",
        "    \"\"\"Return the survival distribution function of a set of lifetimes.\n",
        "\n",
        "    Parameters\n",
        "    ----------\n",
        "    lifetimes : array of float or int\n",
        "        The observed lifetimes of a population. These must be non-negative.\n",
        "    right_censored : array of bool, same shape as `lifetimes`\n",
        "        A value of `True` here indicates that this lifetime was not observed.\n",
        "        Values of `np.nan` in `lifetimes` are also considered to be \n",
        "        right-censored.\n",
        "\n",
        "    Returns\n",
        "    -------\n",
        "    sorted_lifetimes : array of float\n",
        "        The\n",
        "    sdf : array of float\n",
        "        Values starting at 1 and progressively decreasing, one level\n",
        "        for each observation in `lifetimes`.\n",
        "\n",
        "    Examples\n",
        "    --------\n",
        "\n",
        "    In this example, of a population of four, two die at time 1, a\n",
        "    third dies at time 2, and a final individual dies at an unknown\n",
        "    time. (Hence, ``np.nan``.)\n",
        "\n",
        "    >>> lifetimes = np.array([2, 1, 1, np.nan])\n",
        "    >>> survival_distribution_function(lifetimes)\n",
        "    (array([ 0.,  1.,  1.,  2.]), array([ 1.  ,  0.75,  0.5 ,  0.25]))\n",
        "    \"\"\"\n",
        "    n_obs = len(lifetimes)\n",
        "    rc = np.isnan(lifetimes)\n",
        "    if right_censored is not None:\n",
        "        rc |= right_censored\n",
        "    observed = lifetimes[~rc]\n",
        "    xs = np.concatenate( ([0], np.sort(observed)) )\n",
        "    ys = np.linspace(1, 0, n_obs + 1)\n",
        "    ys = ys[:len(xs)]\n",
        "    return xs, ys"
      ],
      "metadata": {
        "id": "zInZpSBI6Ybf"
      },
      "execution_count": null,
      "outputs": []
    },
    {
      "cell_type": "code",
      "source": [
        "def plot_cluster_survival_curves(clusters, sample_names, patients,\n",
        "                                 censor=True):\n",
        "    \"\"\"Plot the survival data from a set of sample clusters.\n",
        "\n",
        "    Parameters\n",
        "    ----------\n",
        "    clusters : array of int or categorical pd.Series\n",
        "        The cluster identity of each sample, encoded as a simple int\n",
        "        or as a pandas categorical variable.\n",
        "    sample_names : list of string\n",
        "        The name corresponding to each sample. Must be the same length\n",
        "        as `clusters`.\n",
        "    patients : pandas.DataFrame\n",
        "        The DataFrame containing survival information for each patient.\n",
        "        The indices of this DataFrame must correspond to the\n",
        "        `sample_names`. Samples not represented in this list will be\n",
        "        ignored.\n",
        "    censor : bool, optional\n",
        "        If `True`, use `patients['melanoma-dead']` to right-censor the\n",
        "        survival data.\n",
        "    \"\"\"\n",
        "    fig, ax = plt.subplots()\n",
        "    if type(clusters) == np.ndarray:\n",
        "        cluster_ids = np.unique(clusters)\n",
        "        cluster_names = ['cluster {}'.format(i) for i in cluster_ids]\n",
        "    elif type(clusters) == pd.Series:\n",
        "        cluster_ids = clusters.cat.categories\n",
        "        cluster_names = list(cluster_ids)\n",
        "    n_clusters = len(cluster_ids)\n",
        "    for c in cluster_ids:\n",
        "        clust_samples = np.flatnonzero(clusters == c)\n",
        "        # discard patients not present in survival data\n",
        "        clust_samples = [sample_names[i] for i in clust_samples\n",
        "                         if sample_names[i] in patients.index]\n",
        "        patient_cluster = patients.loc[clust_samples]\n",
        "        survival_times = patient_cluster['melanoma-survival-time'].values\n",
        "        if censor:\n",
        "            censored = ~patient_cluster['melanoma-dead'].values.astype(bool)\n",
        "        else:\n",
        "            censored = None\n",
        "        stimes, sfracs = survival_distribution_function(survival_times,\n",
        "                                                        censored)\n",
        "        ax.plot(stimes / 365, sfracs)\n",
        "\n",
        "    ax.set_xlabel('survival time (years)')\n",
        "    ax.set_ylabel('fraction alive')\n",
        "    ax.legend(cluster_names)"
      ],
      "metadata": {
        "id": "dQGK0h-g6mjw"
      },
      "execution_count": null,
      "outputs": []
    },
    {
      "cell_type": "code",
      "source": [
        "from scipy.cluster.hierarchy import fcluster\n",
        "n_clusters = 3\n",
        "threshold_distance = (yc[-n_clusters, 2] + yc[-n_clusters+1, 2]) / 2\n",
        "clusters = fcluster(yc, threshold_distance, 'distance')\n",
        "\n",
        "plot_cluster_survival_curves(clusters, data_table.columns, patients)"
      ],
      "metadata": {
        "id": "JjAyZz866sKo"
      },
      "execution_count": null,
      "outputs": []
    },
    {
      "cell_type": "code",
      "source": [],
      "metadata": {
        "id": "f6C7paLi60CE"
      },
      "execution_count": null,
      "outputs": []
    }
  ]
}
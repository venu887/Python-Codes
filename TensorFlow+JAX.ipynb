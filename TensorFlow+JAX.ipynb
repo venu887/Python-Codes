{
  "nbformat": 4,
  "nbformat_minor": 0,
  "metadata": {
    "colab": {
      "provenance": [],
      "authorship_tag": "ABX9TyOs/gODnylGnRTJ7kfKwy3T",
      "include_colab_link": true
    },
    "kernelspec": {
      "name": "python3",
      "display_name": "Python 3"
    },
    "language_info": {
      "name": "python"
    }
  },
  "cells": [
    {
      "cell_type": "markdown",
      "metadata": {
        "id": "view-in-github",
        "colab_type": "text"
      },
      "source": [
        "<a href=\"https://colab.research.google.com/github/venu887/Python-Codes/blob/main/TensorFlow%2BJAX.ipynb\" target=\"_parent\"><img src=\"https://colab.research.google.com/assets/colab-badge.svg\" alt=\"Open In Colab\"/></a>"
      ]
    },
    {
      "cell_type": "code",
      "execution_count": 2,
      "metadata": {
        "colab": {
          "base_uri": "https://localhost:8080/"
        },
        "id": "xWRRcgLY3L33",
        "outputId": "a3e99eca-3b4b-4e0d-fc92-ec055ade4a1e"
      },
      "outputs": [
        {
          "output_type": "stream",
          "name": "stdout",
          "text": [
            "2.9.2\n"
          ]
        }
      ],
      "source": [
        "# Tensorflow\n",
        "import tensorflow as tf\n",
        "print(tf.__version__)\n",
        "#Tensor is a multidirectional array that has ability to run on GPU\n",
        "# Tensor is a generalization of a scalar, Vector and matrix"
      ]
    },
    {
      "cell_type": "code",
      "source": [
        "# Tensor Initialization\n",
        "x = tf.constant(4)\n",
        "print(x)"
      ],
      "metadata": {
        "id": "RDd3rQcytEPZ",
        "outputId": "a5c9ead4-672e-4f29-b724-5ebfab490d98",
        "colab": {
          "base_uri": "https://localhost:8080/"
        }
      },
      "execution_count": 3,
      "outputs": [
        {
          "output_type": "stream",
          "name": "stdout",
          "text": [
            "tf.Tensor(4, shape=(), dtype=int32)\n"
          ]
        }
      ]
    },
    {
      "cell_type": "code",
      "source": [
        "x = tf.constant(4, shape=(1,1),)\n",
        "print(x)"
      ],
      "metadata": {
        "id": "IO-4eiV4u3ah",
        "outputId": "27019e89-4159-4cd5-b700-80b2cc73e4b6",
        "colab": {
          "base_uri": "https://localhost:8080/"
        }
      },
      "execution_count": 4,
      "outputs": [
        {
          "output_type": "stream",
          "name": "stdout",
          "text": [
            "tf.Tensor([[4]], shape=(1, 1), dtype=int32)\n"
          ]
        }
      ]
    },
    {
      "cell_type": "code",
      "source": [
        "x = tf.constant(4, shape=(1,1),dtype=tf.float32)\n",
        "print(x)"
      ],
      "metadata": {
        "id": "5msJMC9nvr-y",
        "outputId": "aebbdb09-c037-4e89-bfb8-5df02a27a757",
        "colab": {
          "base_uri": "https://localhost:8080/"
        }
      },
      "execution_count": 6,
      "outputs": [
        {
          "output_type": "stream",
          "name": "stdout",
          "text": [
            "tf.Tensor([[4.]], shape=(1, 1), dtype=float32)\n"
          ]
        }
      ]
    },
    {
      "cell_type": "code",
      "source": [
        "x= tf.constant([[1,2,3], [4,5,6]])\n",
        "print(x)"
      ],
      "metadata": {
        "id": "niIEFYPLv0Pc",
        "outputId": "11180fb0-113e-4865-d377-c0b4c0d6bc79",
        "colab": {
          "base_uri": "https://localhost:8080/"
        }
      },
      "execution_count": 8,
      "outputs": [
        {
          "output_type": "stream",
          "name": "stdout",
          "text": [
            "tf.Tensor(\n",
            "[[1 2 3]\n",
            " [4 5 6]], shape=(2, 3), dtype=int32)\n"
          ]
        }
      ]
    },
    {
      "cell_type": "code",
      "source": [
        "x=tf.ones((3,3))\n",
        "print(x)"
      ],
      "metadata": {
        "id": "BPCDPqd2we03",
        "outputId": "179e454b-2610-414b-f9d4-5c89b95b95e8",
        "colab": {
          "base_uri": "https://localhost:8080/"
        }
      },
      "execution_count": 10,
      "outputs": [
        {
          "output_type": "stream",
          "name": "stdout",
          "text": [
            "tf.Tensor(\n",
            "[[1. 1. 1.]\n",
            " [1. 1. 1.]\n",
            " [1. 1. 1.]], shape=(3, 3), dtype=float32)\n"
          ]
        }
      ]
    },
    {
      "cell_type": "code",
      "source": [
        "x=tf.zeros((2,3))\n",
        "print(x)"
      ],
      "metadata": {
        "id": "qh1EXOEWw03X",
        "outputId": "e126c2d7-afd6-4519-a096-8ae945ab486d",
        "colab": {
          "base_uri": "https://localhost:8080/"
        }
      },
      "execution_count": 12,
      "outputs": [
        {
          "output_type": "stream",
          "name": "stdout",
          "text": [
            "tf.Tensor(\n",
            "[[0. 0. 0.]\n",
            " [0. 0. 0.]], shape=(2, 3), dtype=float32)\n"
          ]
        }
      ]
    },
    {
      "cell_type": "code",
      "source": [
        "x=tf.eye(3)\n",
        "print(x) #Identical matrix"
      ],
      "metadata": {
        "id": "u8LOXGJdxI1B",
        "outputId": "ddcba5b2-6ca0-4150-efab-11f29036aba1",
        "colab": {
          "base_uri": "https://localhost:8080/"
        }
      },
      "execution_count": 16,
      "outputs": [
        {
          "output_type": "stream",
          "name": "stdout",
          "text": [
            "tf.Tensor(\n",
            "[[1. 0. 0.]\n",
            " [0. 1. 0.]\n",
            " [0. 0. 1.]], shape=(3, 3), dtype=float32)\n"
          ]
        }
      ]
    },
    {
      "cell_type": "code",
      "source": [
        "x=tf.random.normal((3,3,4), mean=1,stddev=3)\n",
        "print(x)"
      ],
      "metadata": {
        "id": "eNF3TUSIxgEg",
        "outputId": "a70c7dbb-4f55-4136-daf4-64a5f0c07247",
        "colab": {
          "base_uri": "https://localhost:8080/"
        }
      },
      "execution_count": 18,
      "outputs": [
        {
          "output_type": "stream",
          "name": "stdout",
          "text": [
            "tf.Tensor(\n",
            "[[[ 0.47576487  6.7096605   5.6920114  -1.0356097 ]\n",
            "  [-3.5636115  -1.7130196   0.10244471  3.712285  ]\n",
            "  [ 1.171627    0.9363997   2.4245982   0.6717675 ]]\n",
            "\n",
            " [[-2.6332579  -2.7365065   0.04957855  0.07504684]\n",
            "  [ 0.73908484  0.51716137  0.21260875  2.1005945 ]\n",
            "  [ 4.581653    0.8904792  -0.54005384  3.2392058 ]]\n",
            "\n",
            " [[ 2.2960625  -0.5275712   2.0410755   5.8958964 ]\n",
            "  [-1.4920256   2.3478744   3.9073331  -0.5024595 ]\n",
            "  [-0.8980355  -3.5556111  -7.9330835  -4.2066765 ]]], shape=(3, 3, 4), dtype=float32)\n"
          ]
        }
      ]
    },
    {
      "cell_type": "code",
      "source": [
        "x=tf.random.uniform((1,4), minval=1, maxval=19)\n",
        "print(x)"
      ],
      "metadata": {
        "id": "kxZi1dsmz0Kp",
        "outputId": "f614b8c2-5a8e-432d-e140-2a16fe56052b",
        "colab": {
          "base_uri": "https://localhost:8080/"
        }
      },
      "execution_count": 19,
      "outputs": [
        {
          "output_type": "stream",
          "name": "stdout",
          "text": [
            "tf.Tensor([[15.173649  18.87234    1.6425521  8.640641 ]], shape=(1, 4), dtype=float32)\n"
          ]
        }
      ]
    },
    {
      "cell_type": "code",
      "source": [
        "x=tf.range(7)\n",
        "print(x)"
      ],
      "metadata": {
        "id": "TtUL5UlGzy1O",
        "outputId": "025d26de-c069-4c67-f5af-4b715141b8fd",
        "colab": {
          "base_uri": "https://localhost:8080/"
        }
      },
      "execution_count": 21,
      "outputs": [
        {
          "output_type": "stream",
          "name": "stdout",
          "text": [
            "tf.Tensor([0 1 2 3 4 5 6], shape=(7,), dtype=int32)\n"
          ]
        }
      ]
    },
    {
      "cell_type": "code",
      "source": [
        "x=tf.range(start=1, limit=10, delta=4)\n",
        "print(x)"
      ],
      "metadata": {
        "id": "oxxCcKId0bL5",
        "outputId": "67cca1b1-4004-43ac-ed99-8858a0daa4eb",
        "colab": {
          "base_uri": "https://localhost:8080/"
        }
      },
      "execution_count": 24,
      "outputs": [
        {
          "output_type": "stream",
          "name": "stdout",
          "text": [
            "tf.Tensor([1 5 9], shape=(3,), dtype=int32)\n"
          ]
        }
      ]
    },
    {
      "cell_type": "code",
      "source": [
        "x= tf.cast(x, dtype=tf.float64) \n",
        "#tf.float64 (16,32,64), tf.int(8,16,32,64), tf.bool\n",
        "print(x)"
      ],
      "metadata": {
        "id": "WAWOvONt0uv3",
        "outputId": "c430ec29-954d-45f8-85ee-f1dc3776a712",
        "colab": {
          "base_uri": "https://localhost:8080/"
        }
      },
      "execution_count": 26,
      "outputs": [
        {
          "output_type": "stream",
          "name": "stdout",
          "text": [
            "tf.Tensor([1. 5. 9.], shape=(3,), dtype=float64)\n"
          ]
        }
      ]
    },
    {
      "cell_type": "code",
      "source": [
        "# Mathematical Operations \n",
        "x=tf.constant([1,2,3])\n",
        "y=tf.constant([7,6,5])\n",
        "z=tf.add(x,y) # or regular z= x+y\n",
        "print(z)\n",
        "\n",
        "z=tf.subtract(x,y) # or regular z= x-y\n",
        "print(z)\n",
        "\n",
        "z=tf.divide(x,y)# or regular z= x/y\n",
        "print(z)\n",
        "\n",
        "z=tf.multiply(x,y) # or regular z= x*y\n",
        "print(z)\n",
        "\n",
        "z=tf.tensordot(x,y,axes=1)\n",
        "print(z)"
      ],
      "metadata": {
        "id": "_rQ7iG2k1Fhe",
        "outputId": "e8955062-a10e-44bb-8238-7922e4a5c1e0",
        "colab": {
          "base_uri": "https://localhost:8080/"
        }
      },
      "execution_count": 30,
      "outputs": [
        {
          "output_type": "stream",
          "name": "stdout",
          "text": [
            "tf.Tensor([8 8 8], shape=(3,), dtype=int32)\n",
            "tf.Tensor([-6 -4 -2], shape=(3,), dtype=int32)\n",
            "tf.Tensor([0.14285714 0.33333333 0.6       ], shape=(3,), dtype=float64)\n",
            "tf.Tensor([ 7 12 15], shape=(3,), dtype=int32)\n",
            "tf.Tensor(34, shape=(), dtype=int32)\n"
          ]
        }
      ]
    }
  ]
}
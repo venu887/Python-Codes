{
  "nbformat": 4,
  "nbformat_minor": 0,
  "metadata": {
    "colab": {
      "provenance": [],
      "authorship_tag": "ABX9TyMX1jNEuIRsMQ5wn4TEkR3l",
      "include_colab_link": true
    },
    "kernelspec": {
      "name": "python3",
      "display_name": "Python 3"
    },
    "language_info": {
      "name": "python"
    }
  },
  "cells": [
    {
      "cell_type": "markdown",
      "metadata": {
        "id": "view-in-github",
        "colab_type": "text"
      },
      "source": [
        "<a href=\"https://colab.research.google.com/github/venu887/Python-Codes/blob/main/TensorFlow%2BJAX.ipynb\" target=\"_parent\"><img src=\"https://colab.research.google.com/assets/colab-badge.svg\" alt=\"Open In Colab\"/></a>"
      ]
    },
    {
      "cell_type": "code",
      "execution_count": 58,
      "metadata": {
        "colab": {
          "base_uri": "https://localhost:8080/"
        },
        "id": "xWRRcgLY3L33",
        "outputId": "b8f64574-deda-4a2b-8970-0ded67f5e804"
      },
      "outputs": [
        {
          "output_type": "stream",
          "name": "stdout",
          "text": [
            "2.9.2\n"
          ]
        }
      ],
      "source": [
        "# Tensorflow\n",
        "import tensorflow as tf\n",
        "print(tf.__version__)\n",
        "#Tensor is a multidirectional array that has ability to run on GPU\n",
        "# Tensor is a generalization of a scalar, Vector and matrix"
      ]
    },
    {
      "cell_type": "code",
      "source": [
        "# Tensor Initialization\n",
        "x = tf.constant(4)\n",
        "print(x)"
      ],
      "metadata": {
        "id": "RDd3rQcytEPZ",
        "outputId": "3a19f6e6-79f5-42e9-bd43-4ed95728627e",
        "colab": {
          "base_uri": "https://localhost:8080/"
        }
      },
      "execution_count": 59,
      "outputs": [
        {
          "output_type": "stream",
          "name": "stdout",
          "text": [
            "tf.Tensor(4, shape=(), dtype=int32)\n"
          ]
        }
      ]
    },
    {
      "cell_type": "code",
      "source": [
        "x = tf.constant(4, shape=(1,1),)\n",
        "print(x)"
      ],
      "metadata": {
        "id": "IO-4eiV4u3ah",
        "outputId": "f8a49138-a912-47f2-abab-402fdd56f81b",
        "colab": {
          "base_uri": "https://localhost:8080/"
        }
      },
      "execution_count": 60,
      "outputs": [
        {
          "output_type": "stream",
          "name": "stdout",
          "text": [
            "tf.Tensor([[4]], shape=(1, 1), dtype=int32)\n"
          ]
        }
      ]
    },
    {
      "cell_type": "code",
      "source": [
        "x = tf.constant(4, shape=(1,1),dtype=tf.float32)\n",
        "print(x)"
      ],
      "metadata": {
        "id": "5msJMC9nvr-y",
        "outputId": "be2e71bc-a4b5-4ef8-bcdc-fb5aeee68a03",
        "colab": {
          "base_uri": "https://localhost:8080/"
        }
      },
      "execution_count": 61,
      "outputs": [
        {
          "output_type": "stream",
          "name": "stdout",
          "text": [
            "tf.Tensor([[4.]], shape=(1, 1), dtype=float32)\n"
          ]
        }
      ]
    },
    {
      "cell_type": "code",
      "source": [
        "x= tf.constant([[1,2,3], [4,5,6]])\n",
        "print(x)"
      ],
      "metadata": {
        "id": "niIEFYPLv0Pc",
        "outputId": "549be5a4-0721-4347-da46-9c1740701ac7",
        "colab": {
          "base_uri": "https://localhost:8080/"
        }
      },
      "execution_count": 62,
      "outputs": [
        {
          "output_type": "stream",
          "name": "stdout",
          "text": [
            "tf.Tensor(\n",
            "[[1 2 3]\n",
            " [4 5 6]], shape=(2, 3), dtype=int32)\n"
          ]
        }
      ]
    },
    {
      "cell_type": "code",
      "source": [
        "x=tf.ones((3,3))\n",
        "print(x)"
      ],
      "metadata": {
        "id": "BPCDPqd2we03",
        "outputId": "b289414d-a199-47fb-8583-c2e1c5b9d5de",
        "colab": {
          "base_uri": "https://localhost:8080/"
        }
      },
      "execution_count": 63,
      "outputs": [
        {
          "output_type": "stream",
          "name": "stdout",
          "text": [
            "tf.Tensor(\n",
            "[[1. 1. 1.]\n",
            " [1. 1. 1.]\n",
            " [1. 1. 1.]], shape=(3, 3), dtype=float32)\n"
          ]
        }
      ]
    },
    {
      "cell_type": "code",
      "source": [
        "x=tf.zeros((2,3))\n",
        "print(x)"
      ],
      "metadata": {
        "id": "qh1EXOEWw03X",
        "outputId": "7be7360e-0928-44df-f5c6-1ed56d02d937",
        "colab": {
          "base_uri": "https://localhost:8080/"
        }
      },
      "execution_count": 64,
      "outputs": [
        {
          "output_type": "stream",
          "name": "stdout",
          "text": [
            "tf.Tensor(\n",
            "[[0. 0. 0.]\n",
            " [0. 0. 0.]], shape=(2, 3), dtype=float32)\n"
          ]
        }
      ]
    },
    {
      "cell_type": "code",
      "source": [
        "x=tf.eye(3)\n",
        "print(x) #Identical matrix"
      ],
      "metadata": {
        "id": "u8LOXGJdxI1B",
        "outputId": "d6dac841-b9ae-44fe-9b8c-6c3a027bd2c1",
        "colab": {
          "base_uri": "https://localhost:8080/"
        }
      },
      "execution_count": 65,
      "outputs": [
        {
          "output_type": "stream",
          "name": "stdout",
          "text": [
            "tf.Tensor(\n",
            "[[1. 0. 0.]\n",
            " [0. 1. 0.]\n",
            " [0. 0. 1.]], shape=(3, 3), dtype=float32)\n"
          ]
        }
      ]
    },
    {
      "cell_type": "code",
      "source": [
        "x=tf.random.normal((3,3,4), mean=1,stddev=3)\n",
        "print(x)"
      ],
      "metadata": {
        "id": "eNF3TUSIxgEg",
        "outputId": "53840376-117d-4f20-b36a-74094c145740",
        "colab": {
          "base_uri": "https://localhost:8080/"
        }
      },
      "execution_count": 66,
      "outputs": [
        {
          "output_type": "stream",
          "name": "stdout",
          "text": [
            "tf.Tensor(\n",
            "[[[-0.77980924  0.2052195  -1.3144763   8.984583  ]\n",
            "  [-4.7132235   0.6229453   2.705334    0.8176986 ]\n",
            "  [ 2.5827966   2.482973    0.5005896  -0.31906927]]\n",
            "\n",
            " [[-1.6723447  -0.86802936  4.105274    1.6260915 ]\n",
            "  [ 0.82222724  1.5753039   2.1062083   1.1081815 ]\n",
            "  [ 3.830052    4.560397    2.3856177  -0.8484757 ]]\n",
            "\n",
            " [[ 4.0589094  -2.0597334  -1.575875   -0.96687126]\n",
            "  [ 2.583794    2.6457267  -0.549418   -1.5467372 ]\n",
            "  [-5.599331   -1.5474944  -3.5143013  -3.2653742 ]]], shape=(3, 3, 4), dtype=float32)\n"
          ]
        }
      ]
    },
    {
      "cell_type": "code",
      "source": [
        "x=tf.random.uniform((1,4), minval=1, maxval=19)\n",
        "print(x)"
      ],
      "metadata": {
        "id": "kxZi1dsmz0Kp",
        "outputId": "78d82a2f-18c2-4a8e-fab3-3320876b43f0",
        "colab": {
          "base_uri": "https://localhost:8080/"
        }
      },
      "execution_count": 67,
      "outputs": [
        {
          "output_type": "stream",
          "name": "stdout",
          "text": [
            "tf.Tensor([[9.618925  4.7891717 8.3984165 7.6888328]], shape=(1, 4), dtype=float32)\n"
          ]
        }
      ]
    },
    {
      "cell_type": "code",
      "source": [
        "x=tf.range(7)\n",
        "print(x)"
      ],
      "metadata": {
        "id": "TtUL5UlGzy1O",
        "outputId": "e8c53c42-5cda-49e2-fd00-d01d1476b5d5",
        "colab": {
          "base_uri": "https://localhost:8080/"
        }
      },
      "execution_count": 68,
      "outputs": [
        {
          "output_type": "stream",
          "name": "stdout",
          "text": [
            "tf.Tensor([0 1 2 3 4 5 6], shape=(7,), dtype=int32)\n"
          ]
        }
      ]
    },
    {
      "cell_type": "code",
      "source": [
        "x=tf.range(start=1, limit=10, delta=4)\n",
        "print(x)"
      ],
      "metadata": {
        "id": "oxxCcKId0bL5",
        "outputId": "c72d261d-1a5c-4dc3-d7f3-9dfb935c7015",
        "colab": {
          "base_uri": "https://localhost:8080/"
        }
      },
      "execution_count": 69,
      "outputs": [
        {
          "output_type": "stream",
          "name": "stdout",
          "text": [
            "tf.Tensor([1 5 9], shape=(3,), dtype=int32)\n"
          ]
        }
      ]
    },
    {
      "cell_type": "code",
      "source": [
        "x= tf.cast(x, dtype=tf.float64) \n",
        "#tf.float64 (16,32,64), tf.int(8,16,32,64), tf.bool\n",
        "print(x)"
      ],
      "metadata": {
        "id": "WAWOvONt0uv3",
        "outputId": "af092932-3da2-4cd6-e789-960d935f73a1",
        "colab": {
          "base_uri": "https://localhost:8080/"
        }
      },
      "execution_count": 70,
      "outputs": [
        {
          "output_type": "stream",
          "name": "stdout",
          "text": [
            "tf.Tensor([1. 5. 9.], shape=(3,), dtype=float64)\n"
          ]
        }
      ]
    },
    {
      "cell_type": "code",
      "source": [
        "# Mathematical Operations \n",
        "x=tf.constant([1,2,3])\n",
        "y=tf.constant([7,6,5])\n",
        "z=tf.add(x,y) # or regular z= x+y\n",
        "print(z)\n",
        "\n",
        "z=tf.subtract(x,y) # or regular z= x-y\n",
        "print(z)\n",
        "\n",
        "z=tf.divide(x,y)# or regular z= x/y\n",
        "print(z)\n",
        "\n",
        "z=tf.multiply(x,y) # or regular z= x*y\n",
        "print(z)\n",
        "\n",
        "z=tf.tensordot(x,y,axes=1)\n",
        "print(z)\n",
        "\n",
        "z=tf.reduce_sum(x*y, axis=0)\n",
        "print(z)\n",
        "\n",
        "z=x**5\n",
        "print (z)"
      ],
      "metadata": {
        "id": "_rQ7iG2k1Fhe",
        "outputId": "96914eb5-9229-4c02-b0a5-a93b5fc401ce",
        "colab": {
          "base_uri": "https://localhost:8080/"
        }
      },
      "execution_count": 71,
      "outputs": [
        {
          "output_type": "stream",
          "name": "stdout",
          "text": [
            "tf.Tensor([8 8 8], shape=(3,), dtype=int32)\n",
            "tf.Tensor([-6 -4 -2], shape=(3,), dtype=int32)\n",
            "tf.Tensor([0.14285714 0.33333333 0.6       ], shape=(3,), dtype=float64)\n",
            "tf.Tensor([ 7 12 15], shape=(3,), dtype=int32)\n",
            "tf.Tensor(34, shape=(), dtype=int32)\n",
            "tf.Tensor(34, shape=(), dtype=int32)\n",
            "tf.Tensor([  1  32 243], shape=(3,), dtype=int32)\n"
          ]
        }
      ]
    },
    {
      "cell_type": "code",
      "source": [
        "x=tf.random.normal((2,3))\n",
        "y=tf.random.normal((3,4))\n",
        "z=tf,tf.matmul(x,y)\n",
        "#or\n",
        "z=x @ y\n",
        "print(z)"
      ],
      "metadata": {
        "id": "H967X6ke4OOi",
        "colab": {
          "base_uri": "https://localhost:8080/"
        },
        "outputId": "44c823ab-dc02-4d90-ced1-108ac3cb04fd"
      },
      "execution_count": 72,
      "outputs": [
        {
          "output_type": "stream",
          "name": "stdout",
          "text": [
            "tf.Tensor(\n",
            "[[-0.00547136  0.7509723  -0.50248516 -1.6970104 ]\n",
            " [-0.14462344  0.16359222  0.20077498 -0.30555928]], shape=(2, 4), dtype=float32)\n"
          ]
        }
      ]
    },
    {
      "cell_type": "code",
      "source": [
        "# Indexing on Tensor\n",
        "x=tf.constant([0,1,2,3,2,3,1,2,3])\n",
        "print(x[:])\n",
        "print(x[1:]) # start from second position\n",
        "print(x[1:3]) # selecting only first two numbers\n",
        "print(x[::2]) # Removed even position number\n",
        "print(x[::-1]) # making it in to Riverse order"
      ],
      "metadata": {
        "colab": {
          "base_uri": "https://localhost:8080/"
        },
        "id": "Gsrq0OhTCl9B",
        "outputId": "5bab8495-9a02-47a5-e07b-77b8e29f7ab5"
      },
      "execution_count": 73,
      "outputs": [
        {
          "output_type": "stream",
          "name": "stdout",
          "text": [
            "tf.Tensor([0 1 2 3 2 3 1 2 3], shape=(9,), dtype=int32)\n",
            "tf.Tensor([1 2 3 2 3 1 2 3], shape=(8,), dtype=int32)\n",
            "tf.Tensor([1 2], shape=(2,), dtype=int32)\n",
            "tf.Tensor([0 2 2 1 3], shape=(5,), dtype=int32)\n",
            "tf.Tensor([3 2 1 3 2 3 2 1 0], shape=(9,), dtype=int32)\n"
          ]
        }
      ]
    },
    {
      "cell_type": "code",
      "source": [
        "x=tf.constant([0,1,2,3,2,3,1,2,3])\n",
        "indices=tf.constant([0, 3])\n",
        "print(indices)\n",
        "x_ind=tf.gather(x, indices)\n",
        "print(x_ind)\n",
        "\n",
        "x=tf.constant([[1,2],\n",
        "               [3,4],\n",
        "               [5,6]])\n",
        "print(x[0,:])\n",
        "print(x[0:2,:])"
      ],
      "metadata": {
        "colab": {
          "base_uri": "https://localhost:8080/"
        },
        "id": "uK7ABu6zEpPU",
        "outputId": "7d0a56cf-94c9-43cd-9b2d-673febfcb526"
      },
      "execution_count": 74,
      "outputs": [
        {
          "output_type": "stream",
          "name": "stdout",
          "text": [
            "tf.Tensor([0 3], shape=(2,), dtype=int32)\n",
            "tf.Tensor([0 3], shape=(2,), dtype=int32)\n",
            "tf.Tensor([1 2], shape=(2,), dtype=int32)\n",
            "tf.Tensor(\n",
            "[[1 2]\n",
            " [3 4]], shape=(2, 2), dtype=int32)\n"
          ]
        }
      ]
    },
    {
      "cell_type": "code",
      "source": [
        "# Reshaping \n",
        "x= tf.range(9)\n",
        "print(x)\n",
        "x=tf.reshape(x, (3,3))\n",
        "print(x)\n",
        "x=tf.transpose(x, perm=[1,0])\n",
        "print(x)"
      ],
      "metadata": {
        "id": "XUs2FyaqFhSI",
        "colab": {
          "base_uri": "https://localhost:8080/"
        },
        "outputId": "e47d6d21-5b1d-4983-8856-812efe73ac4a"
      },
      "execution_count": 75,
      "outputs": [
        {
          "output_type": "stream",
          "name": "stdout",
          "text": [
            "tf.Tensor([0 1 2 3 4 5 6 7 8], shape=(9,), dtype=int32)\n",
            "tf.Tensor(\n",
            "[[0 1 2]\n",
            " [3 4 5]\n",
            " [6 7 8]], shape=(3, 3), dtype=int32)\n",
            "tf.Tensor(\n",
            "[[0 3 6]\n",
            " [1 4 7]\n",
            " [2 5 8]], shape=(3, 3), dtype=int32)\n"
          ]
        }
      ]
    },
    {
      "cell_type": "code",
      "source": [
        "# Create Neural Network\n",
        "# short introduction uses Keras to:\n",
        "# Load a prebuilt dataset.\n",
        "# Build a neural network machine learning model that classifies images.\n",
        "# Train this neural network.\n",
        "# Evaluate the accuracy of the model.\n",
        "import tensorflow as tf\n",
        "print(\"TensorFlow version:\", tf.__version__)\n",
        "# we need to use Keras from tensorflow for official functional API\n",
        "\n",
        "# Load a dataset\n",
        "mnist = tf.keras.datasets.mnist\n",
        "\n",
        "(x_train, y_train), (x_test, y_test) = mnist.load_data()\n",
        "x_train, x_test = x_train / 255.0, x_test / 255.0"
      ],
      "metadata": {
        "id": "XMgGM5RSnEap",
        "outputId": "0509b198-f180-456e-b8d0-f7d01348a2ad",
        "colab": {
          "base_uri": "https://localhost:8080/"
        }
      },
      "execution_count": 77,
      "outputs": [
        {
          "output_type": "stream",
          "name": "stdout",
          "text": [
            "TensorFlow version: 2.9.2\n",
            "Downloading data from https://storage.googleapis.com/tensorflow/tf-keras-datasets/mnist.npz\n",
            "11490434/11490434 [==============================] - 1s 0us/step\n"
          ]
        }
      ]
    },
    {
      "cell_type": "code",
      "source": [
        "# Build a machine learning model\n",
        "# Build a tf.keras.Sequential model by stacking layers.\n",
        "model = tf.keras.models.Sequential([\n",
        "  tf.keras.layers.Flatten(input_shape=(28, 28)),\n",
        "  tf.keras.layers.Dense(128, activation='relu'),\n",
        "  tf.keras.layers.Dropout(0.2),\n",
        "  tf.keras.layers.Dense(10)\n",
        "])"
      ],
      "metadata": {
        "id": "dkdv_fLBx_SK"
      },
      "execution_count": 85,
      "outputs": []
    },
    {
      "cell_type": "code",
      "source": [
        "predictions = model(x_train[:1]).numpy()\n",
        "predictions"
      ],
      "metadata": {
        "id": "6SUwXyf7yCn2",
        "outputId": "612e9406-122d-4e96-ccf9-04ffa28e9241",
        "colab": {
          "base_uri": "https://localhost:8080/"
        }
      },
      "execution_count": 86,
      "outputs": [
        {
          "output_type": "execute_result",
          "data": {
            "text/plain": [
              "array([[  40.430443,   14.016335,  -37.04692 ,  -10.491829,  186.14648 ,\n",
              "         -50.66549 , -114.44516 ,  -64.797195, -106.660446,  110.59309 ]],\n",
              "      dtype=float32)"
            ]
          },
          "metadata": {},
          "execution_count": 86
        }
      ]
    },
    {
      "cell_type": "code",
      "source": [
        "# The tf.nn.softmax function converts these logits to probabilities for each class:\n",
        "tf.nn.softmax(predictions).numpy()"
      ],
      "metadata": {
        "id": "5lN8ud9ryCa-",
        "outputId": "ceaaa88c-569e-42a3-ab25-4db75fd4839e",
        "colab": {
          "base_uri": "https://localhost:8080/"
        }
      },
      "execution_count": 87,
      "outputs": [
        {
          "output_type": "execute_result",
          "data": {
            "text/plain": [
              "array([[0.0000000e+00, 0.0000000e+00, 0.0000000e+00, 0.0000000e+00,\n",
              "        1.0000000e+00, 0.0000000e+00, 0.0000000e+00, 0.0000000e+00,\n",
              "        0.0000000e+00, 1.5401964e-33]], dtype=float32)"
            ]
          },
          "metadata": {},
          "execution_count": 87
        }
      ]
    },
    {
      "cell_type": "code",
      "source": [
        "# Define a loss function for training using losses.SparseCategoricalCrossentropy, which takes a vector of logits and a True index and returns a scalar loss for each example.\n",
        "loss_fn = tf.keras.losses.SparseCategoricalCrossentropy(from_logits=True)\n",
        "loss_fn(y_train[:1], predictions).numpy()"
      ],
      "metadata": {
        "id": "DSdQ0VXzyXAZ",
        "outputId": "7371e279-9ff4-4b97-b959-240075d26015",
        "colab": {
          "base_uri": "https://localhost:8080/"
        }
      },
      "execution_count": 89,
      "outputs": [
        {
          "output_type": "execute_result",
          "data": {
            "text/plain": [
              "236.81198"
            ]
          },
          "metadata": {},
          "execution_count": 89
        }
      ]
    },
    {
      "cell_type": "code",
      "source": [
        "model.compile(optimizer='adam',\n",
        "              loss=loss_fn,\n",
        "              metrics=['accuracy'])"
      ],
      "metadata": {
        "id": "9155vglNyCJf"
      },
      "execution_count": 90,
      "outputs": []
    },
    {
      "cell_type": "code",
      "source": [
        "# Train and evaluate your model\n",
        "# Use the Model.fit method to adjust your model parameters and minimize the loss\n",
        "model.fit(x_train, y_train, epochs=5)\n",
        "# The Model.evaluate method checks the models performance, usually on a \"Validation-set\" or \"Test-set\".\n",
        "model.evaluate(x_test,  y_test, verbose=2)\n",
        "\n",
        "#The image classifier is now trained to ~98% accuracy on this dataset. To learn more, read the TensorFlow tutorials.\n",
        "# If you want your model to return a probability, you can wrap the trained model, and attach the softmax to it:\n",
        "probability_model = tf.keras.Sequential([\n",
        "  model,\n",
        "  tf.keras.layers.Softmax()\n",
        "])"
      ],
      "metadata": {
        "id": "wdomMIZpy8zM"
      },
      "execution_count": null,
      "outputs": []
    },
    {
      "cell_type": "code",
      "source": [
        "# trained a machine learning model using a prebuilt dataset using the Keras API\n",
        "probability_model(x_test[:5])"
      ],
      "metadata": {
        "id": "iWid7sSty8rw"
      },
      "execution_count": null,
      "outputs": []
    },
    {
      "cell_type": "code",
      "execution_count": 81,
      "metadata": {
        "id": "7FP5258xjs-v"
      },
      "outputs": [],
      "source": [
        "# this is the second way of importing keras and layers or datasets like mnist for NN\n",
        "import tensorflow as tf\n",
        "from tensorflow import keras\n",
        "from tensorflow.keras import layers\n",
        "from tensorflow.keras.datasets import mnist"
      ]
    },
    {
      "cell_type": "code",
      "source": [
        "(x_train,y_train), (x_test, y_test) = mnist.load_data()\n",
        "print(x_train.shape)\n",
        "print(y_train.shape)\n",
        "print(x_test.shape)\n",
        "print(y_test.shape)"
      ],
      "metadata": {
        "id": "pU-GmfQdwhua",
        "outputId": "7cc0ebb3-a248-4e43-de15-0c9e5a3b05ce",
        "colab": {
          "base_uri": "https://localhost:8080/"
        }
      },
      "execution_count": 84,
      "outputs": [
        {
          "output_type": "stream",
          "name": "stdout",
          "text": [
            "(60000, 28, 28)\n",
            "(60000,)\n",
            "(10000, 28, 28)\n",
            "(10000,)\n"
          ]
        }
      ]
    }
  ]
}
{
  "nbformat": 4,
  "nbformat_minor": 0,
  "metadata": {
    "colab": {
      "provenance": [],
      "authorship_tag": "ABX9TyMX1jNEuIRsMQ5wn4TEkR3l",
      "include_colab_link": true
    },
    "kernelspec": {
      "name": "python3",
      "display_name": "Python 3"
    },
    "language_info": {
      "name": "python"
    }
  },
  "cells": [
    {
      "cell_type": "markdown",
      "metadata": {
        "id": "view-in-github",
        "colab_type": "text"
      },
      "source": [
        "<a href=\"https://colab.research.google.com/github/venu887/Python-Codes/blob/main/TensorFlow%2BJAX.ipynb\" target=\"_parent\"><img src=\"https://colab.research.google.com/assets/colab-badge.svg\" alt=\"Open In Colab\"/></a>"
      ]
    },
    {
      "cell_type": "code",
      "execution_count": 91,
      "metadata": {
        "colab": {
          "base_uri": "https://localhost:8080/"
        },
        "id": "xWRRcgLY3L33",
        "outputId": "5054b008-e29d-4958-c0dd-638e764d8286"
      },
      "outputs": [
        {
          "output_type": "stream",
          "name": "stdout",
          "text": [
            "2.9.2\n"
          ]
        }
      ],
      "source": [
        "# Tensorflow\n",
        "import tensorflow as tf\n",
        "print(tf.__version__)\n",
        "#Tensor is a multidirectional array that has ability to run on GPU\n",
        "# Tensor is a generalization of a scalar, Vector and matrix"
      ]
    },
    {
      "cell_type": "code",
      "source": [
        "# Tensor Initialization\n",
        "x = tf.constant(4)\n",
        "print(x)"
      ],
      "metadata": {
        "id": "RDd3rQcytEPZ",
        "outputId": "fbfdc1cb-501e-44f8-e92b-c30f93445838",
        "colab": {
          "base_uri": "https://localhost:8080/"
        }
      },
      "execution_count": 92,
      "outputs": [
        {
          "output_type": "stream",
          "name": "stdout",
          "text": [
            "tf.Tensor(4, shape=(), dtype=int32)\n"
          ]
        }
      ]
    },
    {
      "cell_type": "code",
      "source": [
        "x = tf.constant(4, shape=(1,1),)\n",
        "print(x)"
      ],
      "metadata": {
        "id": "IO-4eiV4u3ah",
        "outputId": "7a15f967-a690-49cb-a1fc-3bed7bd0b77e",
        "colab": {
          "base_uri": "https://localhost:8080/"
        }
      },
      "execution_count": 93,
      "outputs": [
        {
          "output_type": "stream",
          "name": "stdout",
          "text": [
            "tf.Tensor([[4]], shape=(1, 1), dtype=int32)\n"
          ]
        }
      ]
    },
    {
      "cell_type": "code",
      "source": [
        "x = tf.constant(4, shape=(1,1),dtype=tf.float32)\n",
        "print(x)"
      ],
      "metadata": {
        "id": "5msJMC9nvr-y",
        "outputId": "ba48ac34-349f-44ac-9b8b-f493963a51c6",
        "colab": {
          "base_uri": "https://localhost:8080/"
        }
      },
      "execution_count": 94,
      "outputs": [
        {
          "output_type": "stream",
          "name": "stdout",
          "text": [
            "tf.Tensor([[4.]], shape=(1, 1), dtype=float32)\n"
          ]
        }
      ]
    },
    {
      "cell_type": "code",
      "source": [
        "x= tf.constant([[1,2,3], [4,5,6]])\n",
        "print(x)"
      ],
      "metadata": {
        "id": "niIEFYPLv0Pc",
        "outputId": "c54ee784-a6cf-4f0f-a742-b2842d807a0e",
        "colab": {
          "base_uri": "https://localhost:8080/"
        }
      },
      "execution_count": 95,
      "outputs": [
        {
          "output_type": "stream",
          "name": "stdout",
          "text": [
            "tf.Tensor(\n",
            "[[1 2 3]\n",
            " [4 5 6]], shape=(2, 3), dtype=int32)\n"
          ]
        }
      ]
    },
    {
      "cell_type": "code",
      "source": [
        "x=tf.ones((3,3))\n",
        "print(x)"
      ],
      "metadata": {
        "id": "BPCDPqd2we03",
        "outputId": "a8e04bbd-2e63-4d28-f008-eab18cb54375",
        "colab": {
          "base_uri": "https://localhost:8080/"
        }
      },
      "execution_count": 96,
      "outputs": [
        {
          "output_type": "stream",
          "name": "stdout",
          "text": [
            "tf.Tensor(\n",
            "[[1. 1. 1.]\n",
            " [1. 1. 1.]\n",
            " [1. 1. 1.]], shape=(3, 3), dtype=float32)\n"
          ]
        }
      ]
    },
    {
      "cell_type": "code",
      "source": [
        "x=tf.zeros((2,3))\n",
        "print(x)"
      ],
      "metadata": {
        "id": "qh1EXOEWw03X",
        "outputId": "d17c8f4f-7b37-4849-9560-5ec2427eb73a",
        "colab": {
          "base_uri": "https://localhost:8080/"
        }
      },
      "execution_count": 97,
      "outputs": [
        {
          "output_type": "stream",
          "name": "stdout",
          "text": [
            "tf.Tensor(\n",
            "[[0. 0. 0.]\n",
            " [0. 0. 0.]], shape=(2, 3), dtype=float32)\n"
          ]
        }
      ]
    },
    {
      "cell_type": "code",
      "source": [
        "x=tf.eye(3)\n",
        "print(x) #Identical matrix"
      ],
      "metadata": {
        "id": "u8LOXGJdxI1B",
        "outputId": "8b2e0e87-1652-4d3c-f042-cf236fcf37ae",
        "colab": {
          "base_uri": "https://localhost:8080/"
        }
      },
      "execution_count": 98,
      "outputs": [
        {
          "output_type": "stream",
          "name": "stdout",
          "text": [
            "tf.Tensor(\n",
            "[[1. 0. 0.]\n",
            " [0. 1. 0.]\n",
            " [0. 0. 1.]], shape=(3, 3), dtype=float32)\n"
          ]
        }
      ]
    },
    {
      "cell_type": "code",
      "source": [
        "x=tf.random.normal((3,3,4), mean=1,stddev=3)\n",
        "print(x)"
      ],
      "metadata": {
        "id": "eNF3TUSIxgEg",
        "outputId": "39fef3e9-1177-4c4e-f42e-d8304fed4e2d",
        "colab": {
          "base_uri": "https://localhost:8080/"
        }
      },
      "execution_count": 99,
      "outputs": [
        {
          "output_type": "stream",
          "name": "stdout",
          "text": [
            "tf.Tensor(\n",
            "[[[ 0.08265877  2.7419531  -1.9630508   0.8734042 ]\n",
            "  [ 0.35297245  2.3282113  -5.265209    3.985714  ]\n",
            "  [ 0.05258238 -4.6379385   3.265038   -2.6411781 ]]\n",
            "\n",
            " [[ 0.9587996   4.199876    2.4333115   0.95690465]\n",
            "  [ 4.4954877   3.0940685   1.5144134   2.3782954 ]\n",
            "  [ 0.30045962  2.123345   -0.0421201   3.9992263 ]]\n",
            "\n",
            " [[ 1.960843   -2.077887    1.6617393   3.4536366 ]\n",
            "  [-1.4059992   2.8128028  -1.8457942   1.0225644 ]\n",
            "  [ 1.3083794  -3.9490013  -1.4663665  -1.3335128 ]]], shape=(3, 3, 4), dtype=float32)\n"
          ]
        }
      ]
    },
    {
      "cell_type": "code",
      "source": [
        "x=tf.random.uniform((1,4), minval=1, maxval=19)\n",
        "print(x)"
      ],
      "metadata": {
        "id": "kxZi1dsmz0Kp",
        "outputId": "933c263b-c327-421a-d3c8-e4773d7e93e3",
        "colab": {
          "base_uri": "https://localhost:8080/"
        }
      },
      "execution_count": 100,
      "outputs": [
        {
          "output_type": "stream",
          "name": "stdout",
          "text": [
            "tf.Tensor([[14.664306 17.907955 16.300947 12.91554 ]], shape=(1, 4), dtype=float32)\n"
          ]
        }
      ]
    },
    {
      "cell_type": "code",
      "source": [
        "x=tf.range(7)\n",
        "print(x)"
      ],
      "metadata": {
        "id": "TtUL5UlGzy1O",
        "outputId": "2ffe987b-b1ac-4a23-ad17-a16cf84d1f15",
        "colab": {
          "base_uri": "https://localhost:8080/"
        }
      },
      "execution_count": 101,
      "outputs": [
        {
          "output_type": "stream",
          "name": "stdout",
          "text": [
            "tf.Tensor([0 1 2 3 4 5 6], shape=(7,), dtype=int32)\n"
          ]
        }
      ]
    },
    {
      "cell_type": "code",
      "source": [
        "x=tf.range(start=1, limit=10, delta=4)\n",
        "print(x)"
      ],
      "metadata": {
        "id": "oxxCcKId0bL5",
        "outputId": "06ffed96-fa71-42c5-c8fa-b1e33237cdd2",
        "colab": {
          "base_uri": "https://localhost:8080/"
        }
      },
      "execution_count": 102,
      "outputs": [
        {
          "output_type": "stream",
          "name": "stdout",
          "text": [
            "tf.Tensor([1 5 9], shape=(3,), dtype=int32)\n"
          ]
        }
      ]
    },
    {
      "cell_type": "code",
      "source": [
        "x= tf.cast(x, dtype=tf.float64) \n",
        "#tf.float64 (16,32,64), tf.int(8,16,32,64), tf.bool\n",
        "print(x)"
      ],
      "metadata": {
        "id": "WAWOvONt0uv3",
        "outputId": "1f9216bc-fa02-4a25-f604-f337b446c70f",
        "colab": {
          "base_uri": "https://localhost:8080/"
        }
      },
      "execution_count": 103,
      "outputs": [
        {
          "output_type": "stream",
          "name": "stdout",
          "text": [
            "tf.Tensor([1. 5. 9.], shape=(3,), dtype=float64)\n"
          ]
        }
      ]
    },
    {
      "cell_type": "code",
      "source": [
        "# Mathematical Operations \n",
        "x=tf.constant([1,2,3])\n",
        "y=tf.constant([7,6,5])\n",
        "z=tf.add(x,y) # or regular z= x+y\n",
        "print(z)\n",
        "\n",
        "z=tf.subtract(x,y) # or regular z= x-y\n",
        "print(z)\n",
        "\n",
        "z=tf.divide(x,y)# or regular z= x/y\n",
        "print(z)\n",
        "\n",
        "z=tf.multiply(x,y) # or regular z= x*y\n",
        "print(z)\n",
        "\n",
        "z=tf.tensordot(x,y,axes=1)\n",
        "print(z)\n",
        "\n",
        "z=tf.reduce_sum(x*y, axis=0)\n",
        "print(z)\n",
        "\n",
        "z=x**5\n",
        "print (z)"
      ],
      "metadata": {
        "id": "_rQ7iG2k1Fhe",
        "outputId": "f13772dc-ead9-42dd-e867-97778f968044",
        "colab": {
          "base_uri": "https://localhost:8080/"
        }
      },
      "execution_count": 104,
      "outputs": [
        {
          "output_type": "stream",
          "name": "stdout",
          "text": [
            "tf.Tensor([8 8 8], shape=(3,), dtype=int32)\n",
            "tf.Tensor([-6 -4 -2], shape=(3,), dtype=int32)\n",
            "tf.Tensor([0.14285714 0.33333333 0.6       ], shape=(3,), dtype=float64)\n",
            "tf.Tensor([ 7 12 15], shape=(3,), dtype=int32)\n",
            "tf.Tensor(34, shape=(), dtype=int32)\n",
            "tf.Tensor(34, shape=(), dtype=int32)\n",
            "tf.Tensor([  1  32 243], shape=(3,), dtype=int32)\n"
          ]
        }
      ]
    },
    {
      "cell_type": "code",
      "source": [
        "x=tf.random.normal((2,3))\n",
        "y=tf.random.normal((3,4))\n",
        "z=tf,tf.matmul(x,y)\n",
        "#or\n",
        "z=x @ y\n",
        "print(z)"
      ],
      "metadata": {
        "id": "H967X6ke4OOi",
        "colab": {
          "base_uri": "https://localhost:8080/"
        },
        "outputId": "0fddf1e1-0084-40ce-c0d4-1c8ab4db80e8"
      },
      "execution_count": 105,
      "outputs": [
        {
          "output_type": "stream",
          "name": "stdout",
          "text": [
            "tf.Tensor(\n",
            "[[-2.2904959  -0.48160866 -1.7096498   2.360908  ]\n",
            " [ 0.33316863  0.11178967  0.19841883  0.94437623]], shape=(2, 4), dtype=float32)\n"
          ]
        }
      ]
    },
    {
      "cell_type": "code",
      "source": [
        "# Indexing on Tensor\n",
        "x=tf.constant([0,1,2,3,2,3,1,2,3])\n",
        "print(x[:])\n",
        "print(x[1:]) # start from second position\n",
        "print(x[1:3]) # selecting only first two numbers\n",
        "print(x[::2]) # Removed even position number\n",
        "print(x[::-1]) # making it in to Riverse order"
      ],
      "metadata": {
        "colab": {
          "base_uri": "https://localhost:8080/"
        },
        "id": "Gsrq0OhTCl9B",
        "outputId": "ae290a0f-3feb-4109-8f1e-70300b7a6d45"
      },
      "execution_count": 106,
      "outputs": [
        {
          "output_type": "stream",
          "name": "stdout",
          "text": [
            "tf.Tensor([0 1 2 3 2 3 1 2 3], shape=(9,), dtype=int32)\n",
            "tf.Tensor([1 2 3 2 3 1 2 3], shape=(8,), dtype=int32)\n",
            "tf.Tensor([1 2], shape=(2,), dtype=int32)\n",
            "tf.Tensor([0 2 2 1 3], shape=(5,), dtype=int32)\n",
            "tf.Tensor([3 2 1 3 2 3 2 1 0], shape=(9,), dtype=int32)\n"
          ]
        }
      ]
    },
    {
      "cell_type": "code",
      "source": [
        "x=tf.constant([0,1,2,3,2,3,1,2,3])\n",
        "indices=tf.constant([0, 3])\n",
        "print(indices)\n",
        "x_ind=tf.gather(x, indices)\n",
        "print(x_ind)\n",
        "\n",
        "x=tf.constant([[1,2],\n",
        "               [3,4],\n",
        "               [5,6]])\n",
        "print(x[0,:])\n",
        "print(x[0:2,:])"
      ],
      "metadata": {
        "colab": {
          "base_uri": "https://localhost:8080/"
        },
        "id": "uK7ABu6zEpPU",
        "outputId": "4b45eacb-c477-4993-a235-fb697ab36aac"
      },
      "execution_count": 107,
      "outputs": [
        {
          "output_type": "stream",
          "name": "stdout",
          "text": [
            "tf.Tensor([0 3], shape=(2,), dtype=int32)\n",
            "tf.Tensor([0 3], shape=(2,), dtype=int32)\n",
            "tf.Tensor([1 2], shape=(2,), dtype=int32)\n",
            "tf.Tensor(\n",
            "[[1 2]\n",
            " [3 4]], shape=(2, 2), dtype=int32)\n"
          ]
        }
      ]
    },
    {
      "cell_type": "code",
      "source": [
        "# Reshaping \n",
        "x= tf.range(9)\n",
        "print(x)\n",
        "x=tf.reshape(x, (3,3))\n",
        "print(x)\n",
        "x=tf.transpose(x, perm=[1,0])\n",
        "print(x)"
      ],
      "metadata": {
        "id": "XUs2FyaqFhSI",
        "colab": {
          "base_uri": "https://localhost:8080/"
        },
        "outputId": "da65889b-1b1a-4b4b-ac85-463def58cf99"
      },
      "execution_count": 108,
      "outputs": [
        {
          "output_type": "stream",
          "name": "stdout",
          "text": [
            "tf.Tensor([0 1 2 3 4 5 6 7 8], shape=(9,), dtype=int32)\n",
            "tf.Tensor(\n",
            "[[0 1 2]\n",
            " [3 4 5]\n",
            " [6 7 8]], shape=(3, 3), dtype=int32)\n",
            "tf.Tensor(\n",
            "[[0 3 6]\n",
            " [1 4 7]\n",
            " [2 5 8]], shape=(3, 3), dtype=int32)\n"
          ]
        }
      ]
    },
    {
      "cell_type": "code",
      "source": [
        "# Create Neural Network\n",
        "# short introduction uses Keras to:\n",
        "# Load a prebuilt dataset.\n",
        "# Build a neural network machine learning model that classifies images.\n",
        "# Train this neural network.\n",
        "# Evaluate the accuracy of the model.\n",
        "import tensorflow as tf\n",
        "print(\"TensorFlow version:\", tf.__version__)\n",
        "# we need to use Keras from tensorflow for official functional API\n",
        "\n",
        "# Load a dataset\n",
        "mnist = tf.keras.datasets.mnist\n",
        "\n",
        "(x_train, y_train), (x_test, y_test) = mnist.load_data()\n",
        "x_train, x_test = x_train / 255.0, x_test / 255.0"
      ],
      "metadata": {
        "colab": {
          "base_uri": "https://localhost:8080/"
        },
        "id": "XMgGM5RSnEap",
        "outputId": "dbb046a4-7b70-4e76-c1cb-a78a3ca50d29"
      },
      "execution_count": 109,
      "outputs": [
        {
          "output_type": "stream",
          "name": "stdout",
          "text": [
            "TensorFlow version: 2.9.2\n"
          ]
        }
      ]
    },
    {
      "cell_type": "code",
      "source": [
        "# Build a machine learning model\n",
        "# Build a tf.keras.Sequential model by stacking layers.\n",
        "model = tf.keras.models.Sequential([\n",
        "  tf.keras.layers.Flatten(input_shape=(28, 28)),\n",
        "  tf.keras.layers.Dense(128, activation='relu'),\n",
        "  tf.keras.layers.Dropout(0.2),\n",
        "  tf.keras.layers.Dense(10)\n",
        "])"
      ],
      "metadata": {
        "id": "dkdv_fLBx_SK"
      },
      "execution_count": 110,
      "outputs": []
    },
    {
      "cell_type": "code",
      "source": [
        "predictions = model(x_train[:1]).numpy()\n",
        "predictions"
      ],
      "metadata": {
        "colab": {
          "base_uri": "https://localhost:8080/"
        },
        "id": "6SUwXyf7yCn2",
        "outputId": "e0aaefde-c05b-42e0-98c4-9ed3aa6fd035"
      },
      "execution_count": 111,
      "outputs": [
        {
          "output_type": "execute_result",
          "data": {
            "text/plain": [
              "array([[ 0.3240631 ,  0.23687169, -0.03808363,  0.0149194 , -0.15563092,\n",
              "        -0.00746007,  0.3362402 , -0.6026445 , -0.45815885, -0.40826464]],\n",
              "      dtype=float32)"
            ]
          },
          "metadata": {},
          "execution_count": 111
        }
      ]
    },
    {
      "cell_type": "code",
      "source": [
        "# The tf.nn.softmax function converts these logits to probabilities for each class:\n",
        "tf.nn.softmax(predictions).numpy()"
      ],
      "metadata": {
        "colab": {
          "base_uri": "https://localhost:8080/"
        },
        "id": "5lN8ud9ryCa-",
        "outputId": "3d1dd079-8a71-4a8c-dadc-35028b178812"
      },
      "execution_count": 112,
      "outputs": [
        {
          "output_type": "execute_result",
          "data": {
            "text/plain": [
              "array([[0.14225069, 0.13037299, 0.09903212, 0.10442272, 0.08804931,\n",
              "        0.10211174, 0.14399348, 0.05631063, 0.06506384, 0.06839251]],\n",
              "      dtype=float32)"
            ]
          },
          "metadata": {},
          "execution_count": 112
        }
      ]
    },
    {
      "cell_type": "code",
      "source": [
        "# Define a loss function for training using losses.SparseCategoricalCrossentropy, which takes a vector of logits and a True index and returns a scalar loss for each example.\n",
        "loss_fn = tf.keras.losses.SparseCategoricalCrossentropy(from_logits=True)\n",
        "loss_fn(y_train[:1], predictions).numpy()"
      ],
      "metadata": {
        "colab": {
          "base_uri": "https://localhost:8080/"
        },
        "id": "DSdQ0VXzyXAZ",
        "outputId": "1efb1375-c970-4616-9e5a-c95f7c45e2b3"
      },
      "execution_count": 113,
      "outputs": [
        {
          "output_type": "execute_result",
          "data": {
            "text/plain": [
              "2.2816875"
            ]
          },
          "metadata": {},
          "execution_count": 113
        }
      ]
    },
    {
      "cell_type": "code",
      "source": [
        "model.compile(optimizer='adam',\n",
        "              loss=loss_fn,\n",
        "              metrics=['accuracy'])"
      ],
      "metadata": {
        "id": "9155vglNyCJf"
      },
      "execution_count": 114,
      "outputs": []
    },
    {
      "cell_type": "code",
      "source": [
        "# Train and evaluate your model\n",
        "# Use the Model.fit method to adjust your model parameters and minimize the loss\n",
        "model.fit(x_train, y_train, epochs=5)\n",
        "# The Model.evaluate method checks the models performance, usually on a \"Validation-set\" or \"Test-set\".\n",
        "model.evaluate(x_test,  y_test, verbose=2)\n",
        "\n",
        "#The image classifier is now trained to ~98% accuracy on this dataset. To learn more, read the TensorFlow tutorials.\n",
        "# If you want your model to return a probability, you can wrap the trained model, and attach the softmax to it:\n",
        "probability_model = tf.keras.Sequential([\n",
        "  model,\n",
        "  tf.keras.layers.Softmax()\n",
        "])"
      ],
      "metadata": {
        "colab": {
          "base_uri": "https://localhost:8080/"
        },
        "id": "wdomMIZpy8zM",
        "outputId": "4fb38449-2671-4fd8-d5ac-c37a67c71c40"
      },
      "execution_count": 115,
      "outputs": [
        {
          "output_type": "stream",
          "name": "stdout",
          "text": [
            "Epoch 1/5\n",
            "1875/1875 [==============================] - 7s 4ms/step - loss: 0.3022 - accuracy: 0.9121\n",
            "Epoch 2/5\n",
            "1875/1875 [==============================] - 6s 3ms/step - loss: 0.1460 - accuracy: 0.9568\n",
            "Epoch 3/5\n",
            "1875/1875 [==============================] - 6s 3ms/step - loss: 0.1094 - accuracy: 0.9667\n",
            "Epoch 4/5\n",
            "1875/1875 [==============================] - 6s 3ms/step - loss: 0.0898 - accuracy: 0.9722\n",
            "Epoch 5/5\n",
            "1875/1875 [==============================] - 5s 3ms/step - loss: 0.0747 - accuracy: 0.9764\n",
            "313/313 - 1s - loss: 0.0721 - accuracy: 0.9774 - 802ms/epoch - 3ms/step\n"
          ]
        }
      ]
    },
    {
      "cell_type": "code",
      "source": [
        "# trained a machine learning model using a prebuilt dataset using the Keras API\n",
        "probability_model(x_test[:5])"
      ],
      "metadata": {
        "colab": {
          "base_uri": "https://localhost:8080/"
        },
        "id": "iWid7sSty8rw",
        "outputId": "d2a27865-c840-42c7-e056-9dac6871812d"
      },
      "execution_count": 116,
      "outputs": [
        {
          "output_type": "execute_result",
          "data": {
            "text/plain": [
              "<tf.Tensor: shape=(5, 10), dtype=float32, numpy=\n",
              "array([[9.4559795e-08, 2.2212273e-08, 5.7652128e-06, 1.4501590e-04,\n",
              "        2.7022615e-09, 3.5196191e-08, 9.7643431e-14, 9.9984431e-01,\n",
              "        2.4379048e-07, 4.5448373e-06],\n",
              "       [2.3391724e-08, 4.2654973e-04, 9.9953783e-01, 3.2717540e-05,\n",
              "        3.1138138e-15, 5.0856283e-07, 9.5479614e-08, 2.8558041e-12,\n",
              "        2.2471675e-06, 1.9083221e-11],\n",
              "       [4.5042274e-08, 9.9893087e-01, 3.4687977e-04, 1.3090905e-05,\n",
              "        3.3022170e-05, 1.9417621e-05, 3.4477544e-05, 4.8568877e-04,\n",
              "        1.3491965e-04, 1.4991223e-06],\n",
              "       [9.9995899e-01, 3.9100562e-10, 3.1076509e-06, 3.7936513e-08,\n",
              "        1.7449878e-09, 5.0114585e-07, 6.7019146e-06, 2.0134439e-05,\n",
              "        7.0252865e-10, 1.0615852e-05],\n",
              "       [4.2537620e-05, 9.8327915e-09, 1.4300374e-05, 2.8493469e-07,\n",
              "        9.9343830e-01, 1.1247723e-05, 1.3119777e-04, 7.4192729e-05,\n",
              "        2.4415118e-05, 6.2634870e-03]], dtype=float32)>"
            ]
          },
          "metadata": {},
          "execution_count": 116
        }
      ]
    },
    {
      "cell_type": "code",
      "execution_count": 117,
      "metadata": {
        "id": "7FP5258xjs-v"
      },
      "outputs": [],
      "source": [
        "# this is the second way of importing keras and layers or datasets like mnist for NN\n",
        "import tensorflow as tf\n",
        "from tensorflow import keras\n",
        "from tensorflow.keras import layers\n",
        "from tensorflow.keras.datasets import mnist"
      ]
    },
    {
      "cell_type": "code",
      "source": [
        "(x_train,y_train), (x_test, y_test) = mnist.load_data()\n",
        "print(x_train.shape)\n",
        "print(y_train.shape)\n",
        "print(x_test.shape)\n",
        "print(y_test.shape)"
      ],
      "metadata": {
        "colab": {
          "base_uri": "https://localhost:8080/"
        },
        "id": "pU-GmfQdwhua",
        "outputId": "b199f357-db59-4359-c7d8-e0f70e71fabd"
      },
      "execution_count": 118,
      "outputs": [
        {
          "output_type": "stream",
          "name": "stdout",
          "text": [
            "(60000, 28, 28)\n",
            "(60000,)\n",
            "(10000, 28, 28)\n",
            "(10000,)\n"
          ]
        }
      ]
    }
  ]
}